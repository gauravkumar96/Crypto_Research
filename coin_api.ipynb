{
 "cells": [
  {
   "cell_type": "code",
   "execution_count": 33,
   "id": "25f332c9",
   "metadata": {},
   "outputs": [],
   "source": [
    "api = 'The api key I got after registering myself on site'"
   ]
  },
  {
   "cell_type": "code",
   "execution_count": 8,
   "id": "01bc95fd",
   "metadata": {},
   "outputs": [],
   "source": [
    "import json\n",
    "import pandas as pd"
   ]
  },
  {
   "cell_type": "code",
   "execution_count": 2,
   "id": "4c44d6fd",
   "metadata": {},
   "outputs": [],
   "source": [
    "import requests\n",
    "url = 'https://rest.coinapi.io/v1/exchanges'\n",
    "headers = {'X-CoinAPI-Key' : api}\n",
    "response = requests.get(url, headers=headers)"
   ]
  },
  {
   "cell_type": "markdown",
   "id": "9910ac38",
   "metadata": {},
   "source": [
    "### Getting all the exchanges"
   ]
  },
  {
   "cell_type": "code",
   "execution_count": 10,
   "id": "5953563a",
   "metadata": {},
   "outputs": [
    {
     "data": {
      "text/html": [
       "<div>\n",
       "<style scoped>\n",
       "    .dataframe tbody tr th:only-of-type {\n",
       "        vertical-align: middle;\n",
       "    }\n",
       "\n",
       "    .dataframe tbody tr th {\n",
       "        vertical-align: top;\n",
       "    }\n",
       "\n",
       "    .dataframe thead th {\n",
       "        text-align: right;\n",
       "    }\n",
       "</style>\n",
       "<table border=\"1\" class=\"dataframe\">\n",
       "  <thead>\n",
       "    <tr style=\"text-align: right;\">\n",
       "      <th></th>\n",
       "      <th>exchange_id</th>\n",
       "      <th>website</th>\n",
       "      <th>name</th>\n",
       "      <th>data_start</th>\n",
       "      <th>data_end</th>\n",
       "      <th>data_quote_start</th>\n",
       "      <th>data_quote_end</th>\n",
       "      <th>data_orderbook_start</th>\n",
       "      <th>data_orderbook_end</th>\n",
       "      <th>data_trade_start</th>\n",
       "      <th>data_trade_end</th>\n",
       "      <th>data_symbols_count</th>\n",
       "      <th>volume_1hrs_usd</th>\n",
       "      <th>volume_1day_usd</th>\n",
       "      <th>volume_1mth_usd</th>\n",
       "      <th>metric_id</th>\n",
       "    </tr>\n",
       "  </thead>\n",
       "  <tbody>\n",
       "    <tr>\n",
       "      <th>0</th>\n",
       "      <td>BINANCE</td>\n",
       "      <td>https://www.binance.com/</td>\n",
       "      <td>Binance</td>\n",
       "      <td>2017-07-14</td>\n",
       "      <td>2022-09-09</td>\n",
       "      <td>2017-12-18T21:50:58.3910192Z</td>\n",
       "      <td>2022-09-09T00:00:00.0000000Z</td>\n",
       "      <td>2017-12-18T21:50:58.3910192Z</td>\n",
       "      <td>2022-09-09T00:00:00.0000000Z</td>\n",
       "      <td>2017-07-14T04:00:00.3760000Z</td>\n",
       "      <td>2022-09-09T00:00:00.0000000Z</td>\n",
       "      <td>2106</td>\n",
       "      <td>1.208180e+09</td>\n",
       "      <td>1.973514e+10</td>\n",
       "      <td>4.289251e+11</td>\n",
       "      <td>NaN</td>\n",
       "    </tr>\n",
       "    <tr>\n",
       "      <th>1</th>\n",
       "      <td>KRAKEN</td>\n",
       "      <td>https://www.kraken.com/</td>\n",
       "      <td>Kraken</td>\n",
       "      <td>2013-10-22</td>\n",
       "      <td>2022-09-09</td>\n",
       "      <td>2014-07-31T13:05:46.0000000Z</td>\n",
       "      <td>2022-09-09T00:00:00.0000000Z</td>\n",
       "      <td>2014-07-31T13:05:46.0000000Z</td>\n",
       "      <td>2022-09-09T00:00:00.0000000Z</td>\n",
       "      <td>2013-10-22T23:09:46.8630000Z</td>\n",
       "      <td>2022-09-09T00:00:00.0000000Z</td>\n",
       "      <td>751</td>\n",
       "      <td>4.939794e+07</td>\n",
       "      <td>8.302044e+08</td>\n",
       "      <td>1.616347e+10</td>\n",
       "      <td>NaN</td>\n",
       "    </tr>\n",
       "    <tr>\n",
       "      <th>2</th>\n",
       "      <td>COINBASE</td>\n",
       "      <td>https://pro.coinbase.com/</td>\n",
       "      <td>Coinbase Pro (GDAX)</td>\n",
       "      <td>2015-01-14</td>\n",
       "      <td>2022-09-09</td>\n",
       "      <td>2015-05-17T00:51:32.6370000Z</td>\n",
       "      <td>2022-09-09T00:00:00.0000000Z</td>\n",
       "      <td>2015-05-17T00:51:32.6370000Z</td>\n",
       "      <td>2022-09-09T00:00:00.0000000Z</td>\n",
       "      <td>2015-01-14T16:07:05.0000000Z</td>\n",
       "      <td>2022-09-09T00:00:00.0000000Z</td>\n",
       "      <td>624</td>\n",
       "      <td>8.748491e+07</td>\n",
       "      <td>1.817327e+09</td>\n",
       "      <td>5.584627e+10</td>\n",
       "      <td>NaN</td>\n",
       "    </tr>\n",
       "    <tr>\n",
       "      <th>3</th>\n",
       "      <td>BITSTAMP</td>\n",
       "      <td>https://www.bitstamp.net/</td>\n",
       "      <td>Bitstamp Ltd.</td>\n",
       "      <td>2011-09-13</td>\n",
       "      <td>2022-09-09</td>\n",
       "      <td>2014-02-24T17:43:05.0000000Z</td>\n",
       "      <td>2022-09-09T00:00:00.0000000Z</td>\n",
       "      <td>2014-02-24T17:43:05.0000000Z</td>\n",
       "      <td>2022-09-09T00:00:00.0000000Z</td>\n",
       "      <td>2011-09-13T13:53:36.0000000Z</td>\n",
       "      <td>2022-09-09T00:00:00.0000000Z</td>\n",
       "      <td>191</td>\n",
       "      <td>1.541406e+07</td>\n",
       "      <td>2.112762e+08</td>\n",
       "      <td>4.276942e+09</td>\n",
       "      <td>NaN</td>\n",
       "    </tr>\n",
       "    <tr>\n",
       "      <th>4</th>\n",
       "      <td>GEMINI</td>\n",
       "      <td>https://gemini.com/</td>\n",
       "      <td>Gemini</td>\n",
       "      <td>2015-10-08</td>\n",
       "      <td>2022-09-09</td>\n",
       "      <td>2017-03-18T22:53:42.0948480Z</td>\n",
       "      <td>2022-09-09T00:00:00.0000000Z</td>\n",
       "      <td>2017-03-18T22:53:42.0948480Z</td>\n",
       "      <td>2022-09-09T00:00:00.0000000Z</td>\n",
       "      <td>2015-10-08T13:40:07.8010000Z</td>\n",
       "      <td>2022-09-09T00:00:00.0000000Z</td>\n",
       "      <td>153</td>\n",
       "      <td>7.196047e+06</td>\n",
       "      <td>1.120735e+08</td>\n",
       "      <td>2.316343e+09</td>\n",
       "      <td>[AUCTION_COLLAR_PRICE, AUCTION_HIGHEST_BID, AU...</td>\n",
       "    </tr>\n",
       "  </tbody>\n",
       "</table>\n",
       "</div>"
      ],
      "text/plain": [
       "  exchange_id                    website                 name  data_start  \\\n",
       "0     BINANCE   https://www.binance.com/              Binance  2017-07-14   \n",
       "1      KRAKEN    https://www.kraken.com/               Kraken  2013-10-22   \n",
       "2    COINBASE  https://pro.coinbase.com/  Coinbase Pro (GDAX)  2015-01-14   \n",
       "3    BITSTAMP  https://www.bitstamp.net/        Bitstamp Ltd.  2011-09-13   \n",
       "4      GEMINI        https://gemini.com/               Gemini  2015-10-08   \n",
       "\n",
       "     data_end              data_quote_start                data_quote_end  \\\n",
       "0  2022-09-09  2017-12-18T21:50:58.3910192Z  2022-09-09T00:00:00.0000000Z   \n",
       "1  2022-09-09  2014-07-31T13:05:46.0000000Z  2022-09-09T00:00:00.0000000Z   \n",
       "2  2022-09-09  2015-05-17T00:51:32.6370000Z  2022-09-09T00:00:00.0000000Z   \n",
       "3  2022-09-09  2014-02-24T17:43:05.0000000Z  2022-09-09T00:00:00.0000000Z   \n",
       "4  2022-09-09  2017-03-18T22:53:42.0948480Z  2022-09-09T00:00:00.0000000Z   \n",
       "\n",
       "           data_orderbook_start            data_orderbook_end  \\\n",
       "0  2017-12-18T21:50:58.3910192Z  2022-09-09T00:00:00.0000000Z   \n",
       "1  2014-07-31T13:05:46.0000000Z  2022-09-09T00:00:00.0000000Z   \n",
       "2  2015-05-17T00:51:32.6370000Z  2022-09-09T00:00:00.0000000Z   \n",
       "3  2014-02-24T17:43:05.0000000Z  2022-09-09T00:00:00.0000000Z   \n",
       "4  2017-03-18T22:53:42.0948480Z  2022-09-09T00:00:00.0000000Z   \n",
       "\n",
       "               data_trade_start                data_trade_end  \\\n",
       "0  2017-07-14T04:00:00.3760000Z  2022-09-09T00:00:00.0000000Z   \n",
       "1  2013-10-22T23:09:46.8630000Z  2022-09-09T00:00:00.0000000Z   \n",
       "2  2015-01-14T16:07:05.0000000Z  2022-09-09T00:00:00.0000000Z   \n",
       "3  2011-09-13T13:53:36.0000000Z  2022-09-09T00:00:00.0000000Z   \n",
       "4  2015-10-08T13:40:07.8010000Z  2022-09-09T00:00:00.0000000Z   \n",
       "\n",
       "   data_symbols_count  volume_1hrs_usd  volume_1day_usd  volume_1mth_usd  \\\n",
       "0                2106     1.208180e+09     1.973514e+10     4.289251e+11   \n",
       "1                 751     4.939794e+07     8.302044e+08     1.616347e+10   \n",
       "2                 624     8.748491e+07     1.817327e+09     5.584627e+10   \n",
       "3                 191     1.541406e+07     2.112762e+08     4.276942e+09   \n",
       "4                 153     7.196047e+06     1.120735e+08     2.316343e+09   \n",
       "\n",
       "                                           metric_id  \n",
       "0                                                NaN  \n",
       "1                                                NaN  \n",
       "2                                                NaN  \n",
       "3                                                NaN  \n",
       "4  [AUCTION_COLLAR_PRICE, AUCTION_HIGHEST_BID, AU...  "
      ]
     },
     "execution_count": 10,
     "metadata": {},
     "output_type": "execute_result"
    }
   ],
   "source": [
    "exchanges = pd.DataFrame(json.loads(response.text))\n",
    "exchanges.head()"
   ]
  },
  {
   "cell_type": "markdown",
   "id": "e98d5b91",
   "metadata": {},
   "source": [
    "### Getting all the assets"
   ]
  },
  {
   "cell_type": "code",
   "execution_count": 13,
   "id": "d866f198",
   "metadata": {},
   "outputs": [
    {
     "data": {
      "text/html": [
       "<div>\n",
       "<style scoped>\n",
       "    .dataframe tbody tr th:only-of-type {\n",
       "        vertical-align: middle;\n",
       "    }\n",
       "\n",
       "    .dataframe tbody tr th {\n",
       "        vertical-align: top;\n",
       "    }\n",
       "\n",
       "    .dataframe thead th {\n",
       "        text-align: right;\n",
       "    }\n",
       "</style>\n",
       "<table border=\"1\" class=\"dataframe\">\n",
       "  <thead>\n",
       "    <tr style=\"text-align: right;\">\n",
       "      <th></th>\n",
       "      <th>asset_id</th>\n",
       "      <th>name</th>\n",
       "      <th>type_is_crypto</th>\n",
       "      <th>data_quote_start</th>\n",
       "      <th>data_quote_end</th>\n",
       "      <th>data_orderbook_start</th>\n",
       "      <th>data_orderbook_end</th>\n",
       "      <th>data_trade_start</th>\n",
       "      <th>data_trade_end</th>\n",
       "      <th>data_symbols_count</th>\n",
       "      <th>volume_1hrs_usd</th>\n",
       "      <th>volume_1day_usd</th>\n",
       "      <th>volume_1mth_usd</th>\n",
       "      <th>id_icon</th>\n",
       "      <th>data_start</th>\n",
       "      <th>data_end</th>\n",
       "      <th>price_usd</th>\n",
       "    </tr>\n",
       "  </thead>\n",
       "  <tbody>\n",
       "    <tr>\n",
       "      <th>0</th>\n",
       "      <td>USD</td>\n",
       "      <td>US Dollar</td>\n",
       "      <td>0</td>\n",
       "      <td>2014-02-24T17:43:05.0000000Z</td>\n",
       "      <td>2022-09-09T00:00:00.0000000Z</td>\n",
       "      <td>2014-02-24T17:43:05.0000000Z</td>\n",
       "      <td>2022-09-09T00:00:00.0000000Z</td>\n",
       "      <td>2010-07-17T23:09:17.0000000Z</td>\n",
       "      <td>2022-09-09T00:00:00.0000000Z</td>\n",
       "      <td>138070</td>\n",
       "      <td>1.400846e+12</td>\n",
       "      <td>2.157831e+14</td>\n",
       "      <td>8.202274e+14</td>\n",
       "      <td>0a4185f2-1a03-4a7c-b866-ba7076d8c73b</td>\n",
       "      <td>2010-07-17</td>\n",
       "      <td>2022-09-09</td>\n",
       "      <td>NaN</td>\n",
       "    </tr>\n",
       "    <tr>\n",
       "      <th>1</th>\n",
       "      <td>BTC</td>\n",
       "      <td>Bitcoin</td>\n",
       "      <td>1</td>\n",
       "      <td>2014-02-24T17:43:05.0000000Z</td>\n",
       "      <td>2022-09-09T00:00:00.0000000Z</td>\n",
       "      <td>2014-02-24T17:43:05.0000000Z</td>\n",
       "      <td>2022-09-09T00:00:00.0000000Z</td>\n",
       "      <td>2010-07-17T23:09:17.0000000Z</td>\n",
       "      <td>2022-09-09T00:00:00.0000000Z</td>\n",
       "      <td>112471</td>\n",
       "      <td>8.011492e+12</td>\n",
       "      <td>1.604936e+14</td>\n",
       "      <td>3.406684e+20</td>\n",
       "      <td>4caf2b16-a017-4e26-a348-2cea69c34cba</td>\n",
       "      <td>2010-07-17</td>\n",
       "      <td>2022-09-09</td>\n",
       "      <td>20666.696852</td>\n",
       "    </tr>\n",
       "    <tr>\n",
       "      <th>2</th>\n",
       "      <td>PLN</td>\n",
       "      <td>Zloty</td>\n",
       "      <td>0</td>\n",
       "      <td>2017-08-29T15:47:10.0528025Z</td>\n",
       "      <td>2022-09-09T00:00:00.0000000Z</td>\n",
       "      <td>2017-08-29T15:47:10.0528025Z</td>\n",
       "      <td>2022-09-09T00:00:00.0000000Z</td>\n",
       "      <td>2011-04-05T18:49:48.0000000Z</td>\n",
       "      <td>2022-09-09T00:00:00.0000000Z</td>\n",
       "      <td>102</td>\n",
       "      <td>2.430710e+05</td>\n",
       "      <td>3.548437e+06</td>\n",
       "      <td>8.489232e+07</td>\n",
       "      <td>3f682b5b-77ec-4d8c-b612-b8ff3ac748f7</td>\n",
       "      <td>2011-04-05</td>\n",
       "      <td>2022-09-09</td>\n",
       "      <td>0.213451</td>\n",
       "    </tr>\n",
       "    <tr>\n",
       "      <th>3</th>\n",
       "      <td>EUR</td>\n",
       "      <td>Euro</td>\n",
       "      <td>0</td>\n",
       "      <td>2014-04-20T15:06:33.0000000Z</td>\n",
       "      <td>2022-09-09T00:00:00.0000000Z</td>\n",
       "      <td>2014-04-20T15:06:33.0000000Z</td>\n",
       "      <td>2022-09-09T00:00:00.0000000Z</td>\n",
       "      <td>2011-04-06T02:17:41.0000000Z</td>\n",
       "      <td>2022-09-09T00:00:00.0000000Z</td>\n",
       "      <td>2561</td>\n",
       "      <td>1.120930e+09</td>\n",
       "      <td>3.647127e+11</td>\n",
       "      <td>1.680063e+13</td>\n",
       "      <td>688fcf1c-92bb-4c84-ac95-0971e9bfed2f</td>\n",
       "      <td>2011-04-06</td>\n",
       "      <td>2022-09-09</td>\n",
       "      <td>1.006529</td>\n",
       "    </tr>\n",
       "    <tr>\n",
       "      <th>4</th>\n",
       "      <td>CNY</td>\n",
       "      <td>Yuan Renminbi</td>\n",
       "      <td>0</td>\n",
       "      <td>2015-02-11T16:50:54.6130000Z</td>\n",
       "      <td>2022-09-09T00:00:00.0000000Z</td>\n",
       "      <td>2015-02-11T16:50:54.6130000Z</td>\n",
       "      <td>2020-08-05T14:33:23.5273964Z</td>\n",
       "      <td>2011-06-13T05:13:24.0000000Z</td>\n",
       "      <td>2022-06-10T14:00:00.0000000Z</td>\n",
       "      <td>430</td>\n",
       "      <td>0.000000e+00</td>\n",
       "      <td>0.000000e+00</td>\n",
       "      <td>0.000000e+00</td>\n",
       "      <td>NaN</td>\n",
       "      <td>2011-06-13</td>\n",
       "      <td>2022-09-09</td>\n",
       "      <td>0.144691</td>\n",
       "    </tr>\n",
       "    <tr>\n",
       "      <th>...</th>\n",
       "      <td>...</td>\n",
       "      <td>...</td>\n",
       "      <td>...</td>\n",
       "      <td>...</td>\n",
       "      <td>...</td>\n",
       "      <td>...</td>\n",
       "      <td>...</td>\n",
       "      <td>...</td>\n",
       "      <td>...</td>\n",
       "      <td>...</td>\n",
       "      <td>...</td>\n",
       "      <td>...</td>\n",
       "      <td>...</td>\n",
       "      <td>...</td>\n",
       "      <td>...</td>\n",
       "      <td>...</td>\n",
       "      <td>...</td>\n",
       "    </tr>\n",
       "    <tr>\n",
       "      <th>16127</th>\n",
       "      <td>NEXM</td>\n",
       "      <td>NEXM</td>\n",
       "      <td>1</td>\n",
       "      <td>NaN</td>\n",
       "      <td>NaN</td>\n",
       "      <td>NaN</td>\n",
       "      <td>NaN</td>\n",
       "      <td>NaN</td>\n",
       "      <td>NaN</td>\n",
       "      <td>1</td>\n",
       "      <td>0.000000e+00</td>\n",
       "      <td>0.000000e+00</td>\n",
       "      <td>0.000000e+00</td>\n",
       "      <td>NaN</td>\n",
       "      <td>NaN</td>\n",
       "      <td>NaN</td>\n",
       "      <td>NaN</td>\n",
       "    </tr>\n",
       "    <tr>\n",
       "      <th>16128</th>\n",
       "      <td>LOOBR</td>\n",
       "      <td>LOOBR</td>\n",
       "      <td>1</td>\n",
       "      <td>NaN</td>\n",
       "      <td>NaN</td>\n",
       "      <td>NaN</td>\n",
       "      <td>NaN</td>\n",
       "      <td>NaN</td>\n",
       "      <td>NaN</td>\n",
       "      <td>1</td>\n",
       "      <td>0.000000e+00</td>\n",
       "      <td>0.000000e+00</td>\n",
       "      <td>0.000000e+00</td>\n",
       "      <td>NaN</td>\n",
       "      <td>NaN</td>\n",
       "      <td>NaN</td>\n",
       "      <td>NaN</td>\n",
       "    </tr>\n",
       "    <tr>\n",
       "      <th>16129</th>\n",
       "      <td>XOOM</td>\n",
       "      <td>XOOM</td>\n",
       "      <td>1</td>\n",
       "      <td>NaN</td>\n",
       "      <td>NaN</td>\n",
       "      <td>NaN</td>\n",
       "      <td>NaN</td>\n",
       "      <td>NaN</td>\n",
       "      <td>NaN</td>\n",
       "      <td>1</td>\n",
       "      <td>0.000000e+00</td>\n",
       "      <td>0.000000e+00</td>\n",
       "      <td>0.000000e+00</td>\n",
       "      <td>NaN</td>\n",
       "      <td>NaN</td>\n",
       "      <td>NaN</td>\n",
       "      <td>NaN</td>\n",
       "    </tr>\n",
       "    <tr>\n",
       "      <th>16130</th>\n",
       "      <td>KOJIV2</td>\n",
       "      <td>KOJIV2</td>\n",
       "      <td>1</td>\n",
       "      <td>NaN</td>\n",
       "      <td>NaN</td>\n",
       "      <td>NaN</td>\n",
       "      <td>NaN</td>\n",
       "      <td>NaN</td>\n",
       "      <td>NaN</td>\n",
       "      <td>1</td>\n",
       "      <td>0.000000e+00</td>\n",
       "      <td>0.000000e+00</td>\n",
       "      <td>0.000000e+00</td>\n",
       "      <td>NaN</td>\n",
       "      <td>NaN</td>\n",
       "      <td>NaN</td>\n",
       "      <td>NaN</td>\n",
       "    </tr>\n",
       "    <tr>\n",
       "      <th>16131</th>\n",
       "      <td>MAMASAITAM</td>\n",
       "      <td>MAMASAITAM</td>\n",
       "      <td>1</td>\n",
       "      <td>NaN</td>\n",
       "      <td>NaN</td>\n",
       "      <td>NaN</td>\n",
       "      <td>NaN</td>\n",
       "      <td>NaN</td>\n",
       "      <td>NaN</td>\n",
       "      <td>1</td>\n",
       "      <td>0.000000e+00</td>\n",
       "      <td>0.000000e+00</td>\n",
       "      <td>0.000000e+00</td>\n",
       "      <td>NaN</td>\n",
       "      <td>NaN</td>\n",
       "      <td>NaN</td>\n",
       "      <td>NaN</td>\n",
       "    </tr>\n",
       "  </tbody>\n",
       "</table>\n",
       "<p>16132 rows × 17 columns</p>\n",
       "</div>"
      ],
      "text/plain": [
       "         asset_id           name  type_is_crypto  \\\n",
       "0             USD      US Dollar               0   \n",
       "1             BTC        Bitcoin               1   \n",
       "2             PLN          Zloty               0   \n",
       "3             EUR           Euro               0   \n",
       "4             CNY  Yuan Renminbi               0   \n",
       "...           ...            ...             ...   \n",
       "16127        NEXM           NEXM               1   \n",
       "16128       LOOBR          LOOBR               1   \n",
       "16129        XOOM           XOOM               1   \n",
       "16130      KOJIV2         KOJIV2               1   \n",
       "16131  MAMASAITAM     MAMASAITAM               1   \n",
       "\n",
       "                   data_quote_start                data_quote_end  \\\n",
       "0      2014-02-24T17:43:05.0000000Z  2022-09-09T00:00:00.0000000Z   \n",
       "1      2014-02-24T17:43:05.0000000Z  2022-09-09T00:00:00.0000000Z   \n",
       "2      2017-08-29T15:47:10.0528025Z  2022-09-09T00:00:00.0000000Z   \n",
       "3      2014-04-20T15:06:33.0000000Z  2022-09-09T00:00:00.0000000Z   \n",
       "4      2015-02-11T16:50:54.6130000Z  2022-09-09T00:00:00.0000000Z   \n",
       "...                             ...                           ...   \n",
       "16127                           NaN                           NaN   \n",
       "16128                           NaN                           NaN   \n",
       "16129                           NaN                           NaN   \n",
       "16130                           NaN                           NaN   \n",
       "16131                           NaN                           NaN   \n",
       "\n",
       "               data_orderbook_start            data_orderbook_end  \\\n",
       "0      2014-02-24T17:43:05.0000000Z  2022-09-09T00:00:00.0000000Z   \n",
       "1      2014-02-24T17:43:05.0000000Z  2022-09-09T00:00:00.0000000Z   \n",
       "2      2017-08-29T15:47:10.0528025Z  2022-09-09T00:00:00.0000000Z   \n",
       "3      2014-04-20T15:06:33.0000000Z  2022-09-09T00:00:00.0000000Z   \n",
       "4      2015-02-11T16:50:54.6130000Z  2020-08-05T14:33:23.5273964Z   \n",
       "...                             ...                           ...   \n",
       "16127                           NaN                           NaN   \n",
       "16128                           NaN                           NaN   \n",
       "16129                           NaN                           NaN   \n",
       "16130                           NaN                           NaN   \n",
       "16131                           NaN                           NaN   \n",
       "\n",
       "                   data_trade_start                data_trade_end  \\\n",
       "0      2010-07-17T23:09:17.0000000Z  2022-09-09T00:00:00.0000000Z   \n",
       "1      2010-07-17T23:09:17.0000000Z  2022-09-09T00:00:00.0000000Z   \n",
       "2      2011-04-05T18:49:48.0000000Z  2022-09-09T00:00:00.0000000Z   \n",
       "3      2011-04-06T02:17:41.0000000Z  2022-09-09T00:00:00.0000000Z   \n",
       "4      2011-06-13T05:13:24.0000000Z  2022-06-10T14:00:00.0000000Z   \n",
       "...                             ...                           ...   \n",
       "16127                           NaN                           NaN   \n",
       "16128                           NaN                           NaN   \n",
       "16129                           NaN                           NaN   \n",
       "16130                           NaN                           NaN   \n",
       "16131                           NaN                           NaN   \n",
       "\n",
       "       data_symbols_count  volume_1hrs_usd  volume_1day_usd  volume_1mth_usd  \\\n",
       "0                  138070     1.400846e+12     2.157831e+14     8.202274e+14   \n",
       "1                  112471     8.011492e+12     1.604936e+14     3.406684e+20   \n",
       "2                     102     2.430710e+05     3.548437e+06     8.489232e+07   \n",
       "3                    2561     1.120930e+09     3.647127e+11     1.680063e+13   \n",
       "4                     430     0.000000e+00     0.000000e+00     0.000000e+00   \n",
       "...                   ...              ...              ...              ...   \n",
       "16127                   1     0.000000e+00     0.000000e+00     0.000000e+00   \n",
       "16128                   1     0.000000e+00     0.000000e+00     0.000000e+00   \n",
       "16129                   1     0.000000e+00     0.000000e+00     0.000000e+00   \n",
       "16130                   1     0.000000e+00     0.000000e+00     0.000000e+00   \n",
       "16131                   1     0.000000e+00     0.000000e+00     0.000000e+00   \n",
       "\n",
       "                                    id_icon  data_start    data_end  \\\n",
       "0      0a4185f2-1a03-4a7c-b866-ba7076d8c73b  2010-07-17  2022-09-09   \n",
       "1      4caf2b16-a017-4e26-a348-2cea69c34cba  2010-07-17  2022-09-09   \n",
       "2      3f682b5b-77ec-4d8c-b612-b8ff3ac748f7  2011-04-05  2022-09-09   \n",
       "3      688fcf1c-92bb-4c84-ac95-0971e9bfed2f  2011-04-06  2022-09-09   \n",
       "4                                       NaN  2011-06-13  2022-09-09   \n",
       "...                                     ...         ...         ...   \n",
       "16127                                   NaN         NaN         NaN   \n",
       "16128                                   NaN         NaN         NaN   \n",
       "16129                                   NaN         NaN         NaN   \n",
       "16130                                   NaN         NaN         NaN   \n",
       "16131                                   NaN         NaN         NaN   \n",
       "\n",
       "          price_usd  \n",
       "0               NaN  \n",
       "1      20666.696852  \n",
       "2          0.213451  \n",
       "3          1.006529  \n",
       "4          0.144691  \n",
       "...             ...  \n",
       "16127           NaN  \n",
       "16128           NaN  \n",
       "16129           NaN  \n",
       "16130           NaN  \n",
       "16131           NaN  \n",
       "\n",
       "[16132 rows x 17 columns]"
      ]
     },
     "execution_count": 13,
     "metadata": {},
     "output_type": "execute_result"
    }
   ],
   "source": [
    "url = 'https://rest.coinapi.io/v1/assets'\n",
    "headers = {'X-CoinAPI-Key' : api}\n",
    "response = requests.get(url, headers=headers)\n",
    "\n",
    "assets = pd.DataFrame(json.loads(response.text))\n",
    "assets"
   ]
  },
  {
   "cell_type": "markdown",
   "id": "907718f9",
   "metadata": {},
   "source": [
    "### All symbols"
   ]
  },
  {
   "cell_type": "code",
   "execution_count": 14,
   "id": "a3f0c125",
   "metadata": {},
   "outputs": [
    {
     "data": {
      "text/html": [
       "<div>\n",
       "<style scoped>\n",
       "    .dataframe tbody tr th:only-of-type {\n",
       "        vertical-align: middle;\n",
       "    }\n",
       "\n",
       "    .dataframe tbody tr th {\n",
       "        vertical-align: top;\n",
       "    }\n",
       "\n",
       "    .dataframe thead th {\n",
       "        text-align: right;\n",
       "    }\n",
       "</style>\n",
       "<table border=\"1\" class=\"dataframe\">\n",
       "  <thead>\n",
       "    <tr style=\"text-align: right;\">\n",
       "      <th></th>\n",
       "      <th>symbol_id</th>\n",
       "      <th>exchange_id</th>\n",
       "      <th>symbol_type</th>\n",
       "      <th>asset_id_base</th>\n",
       "      <th>asset_id_quote</th>\n",
       "      <th>option_type_is_call</th>\n",
       "      <th>option_strike_price</th>\n",
       "      <th>option_contract_unit</th>\n",
       "      <th>option_expiration_time</th>\n",
       "      <th>data_end</th>\n",
       "      <th>...</th>\n",
       "      <th>volume_1hrs</th>\n",
       "      <th>volume_1hrs_usd</th>\n",
       "      <th>volume_1day</th>\n",
       "      <th>volume_1day_usd</th>\n",
       "      <th>volume_1mth</th>\n",
       "      <th>volume_1mth_usd</th>\n",
       "      <th>price</th>\n",
       "      <th>index_id</th>\n",
       "      <th>index_display_name</th>\n",
       "      <th>index_display_description</th>\n",
       "    </tr>\n",
       "  </thead>\n",
       "  <tbody>\n",
       "    <tr>\n",
       "      <th>0</th>\n",
       "      <td>DELTAEXCHANGE_OPT_BTC_USDT_220320_43000_P</td>\n",
       "      <td>DELTAEXCHANGE</td>\n",
       "      <td>OPTION</td>\n",
       "      <td>BTC</td>\n",
       "      <td>USDT</td>\n",
       "      <td>False</td>\n",
       "      <td>43000.0</td>\n",
       "      <td>0.001</td>\n",
       "      <td>2022-03-20T12:00:00.0000000Z</td>\n",
       "      <td>2022-03-20</td>\n",
       "      <td>...</td>\n",
       "      <td>NaN</td>\n",
       "      <td>NaN</td>\n",
       "      <td>NaN</td>\n",
       "      <td>NaN</td>\n",
       "      <td>NaN</td>\n",
       "      <td>NaN</td>\n",
       "      <td>NaN</td>\n",
       "      <td>NaN</td>\n",
       "      <td>NaN</td>\n",
       "      <td>NaN</td>\n",
       "    </tr>\n",
       "    <tr>\n",
       "      <th>1</th>\n",
       "      <td>DELTAEXCHANGE_OPT_BTC_USDT_220320_38500_C</td>\n",
       "      <td>DELTAEXCHANGE</td>\n",
       "      <td>OPTION</td>\n",
       "      <td>BTC</td>\n",
       "      <td>USDT</td>\n",
       "      <td>True</td>\n",
       "      <td>38500.0</td>\n",
       "      <td>0.001</td>\n",
       "      <td>2022-03-20T12:00:00.0000000Z</td>\n",
       "      <td>2022-03-20</td>\n",
       "      <td>...</td>\n",
       "      <td>NaN</td>\n",
       "      <td>NaN</td>\n",
       "      <td>NaN</td>\n",
       "      <td>NaN</td>\n",
       "      <td>NaN</td>\n",
       "      <td>NaN</td>\n",
       "      <td>NaN</td>\n",
       "      <td>NaN</td>\n",
       "      <td>NaN</td>\n",
       "      <td>NaN</td>\n",
       "    </tr>\n",
       "    <tr>\n",
       "      <th>2</th>\n",
       "      <td>DELTAEXCHANGE_OPT_BTC_USDT_220320_41250_C</td>\n",
       "      <td>DELTAEXCHANGE</td>\n",
       "      <td>OPTION</td>\n",
       "      <td>BTC</td>\n",
       "      <td>USDT</td>\n",
       "      <td>True</td>\n",
       "      <td>41250.0</td>\n",
       "      <td>0.001</td>\n",
       "      <td>2022-03-20T12:00:00.0000000Z</td>\n",
       "      <td>2022-03-20</td>\n",
       "      <td>...</td>\n",
       "      <td>NaN</td>\n",
       "      <td>NaN</td>\n",
       "      <td>NaN</td>\n",
       "      <td>NaN</td>\n",
       "      <td>NaN</td>\n",
       "      <td>NaN</td>\n",
       "      <td>NaN</td>\n",
       "      <td>NaN</td>\n",
       "      <td>NaN</td>\n",
       "      <td>NaN</td>\n",
       "    </tr>\n",
       "    <tr>\n",
       "      <th>3</th>\n",
       "      <td>DELTAEXCHANGE_OPT_ETH_USDT_220320_2800_C</td>\n",
       "      <td>DELTAEXCHANGE</td>\n",
       "      <td>OPTION</td>\n",
       "      <td>ETH</td>\n",
       "      <td>USDT</td>\n",
       "      <td>True</td>\n",
       "      <td>2800.0</td>\n",
       "      <td>0.010</td>\n",
       "      <td>2022-03-20T12:00:00.0000000Z</td>\n",
       "      <td>2022-03-20</td>\n",
       "      <td>...</td>\n",
       "      <td>NaN</td>\n",
       "      <td>NaN</td>\n",
       "      <td>NaN</td>\n",
       "      <td>NaN</td>\n",
       "      <td>NaN</td>\n",
       "      <td>NaN</td>\n",
       "      <td>NaN</td>\n",
       "      <td>NaN</td>\n",
       "      <td>NaN</td>\n",
       "      <td>NaN</td>\n",
       "    </tr>\n",
       "    <tr>\n",
       "      <th>4</th>\n",
       "      <td>DELTAEXCHANGE_OPT_BTC_USDT_220320_38750_C</td>\n",
       "      <td>DELTAEXCHANGE</td>\n",
       "      <td>OPTION</td>\n",
       "      <td>BTC</td>\n",
       "      <td>USDT</td>\n",
       "      <td>True</td>\n",
       "      <td>38750.0</td>\n",
       "      <td>0.001</td>\n",
       "      <td>2022-03-20T12:00:00.0000000Z</td>\n",
       "      <td>2022-03-20</td>\n",
       "      <td>...</td>\n",
       "      <td>NaN</td>\n",
       "      <td>NaN</td>\n",
       "      <td>NaN</td>\n",
       "      <td>NaN</td>\n",
       "      <td>NaN</td>\n",
       "      <td>NaN</td>\n",
       "      <td>NaN</td>\n",
       "      <td>NaN</td>\n",
       "      <td>NaN</td>\n",
       "      <td>NaN</td>\n",
       "    </tr>\n",
       "    <tr>\n",
       "      <th>...</th>\n",
       "      <td>...</td>\n",
       "      <td>...</td>\n",
       "      <td>...</td>\n",
       "      <td>...</td>\n",
       "      <td>...</td>\n",
       "      <td>...</td>\n",
       "      <td>...</td>\n",
       "      <td>...</td>\n",
       "      <td>...</td>\n",
       "      <td>...</td>\n",
       "      <td>...</td>\n",
       "      <td>...</td>\n",
       "      <td>...</td>\n",
       "      <td>...</td>\n",
       "      <td>...</td>\n",
       "      <td>...</td>\n",
       "      <td>...</td>\n",
       "      <td>...</td>\n",
       "      <td>...</td>\n",
       "      <td>...</td>\n",
       "      <td>...</td>\n",
       "    </tr>\n",
       "    <tr>\n",
       "      <th>342217</th>\n",
       "      <td>DERIBIT_OPT_BTC_USD_210630_32000_C</td>\n",
       "      <td>DERIBIT</td>\n",
       "      <td>OPTION</td>\n",
       "      <td>BTC</td>\n",
       "      <td>USD</td>\n",
       "      <td>True</td>\n",
       "      <td>32000.0</td>\n",
       "      <td>1.000</td>\n",
       "      <td>2021-06-30T08:00:00.0000000Z</td>\n",
       "      <td>NaN</td>\n",
       "      <td>...</td>\n",
       "      <td>NaN</td>\n",
       "      <td>NaN</td>\n",
       "      <td>NaN</td>\n",
       "      <td>NaN</td>\n",
       "      <td>NaN</td>\n",
       "      <td>NaN</td>\n",
       "      <td>NaN</td>\n",
       "      <td>NaN</td>\n",
       "      <td>NaN</td>\n",
       "      <td>NaN</td>\n",
       "    </tr>\n",
       "    <tr>\n",
       "      <th>342218</th>\n",
       "      <td>DERIBIT_OPT_ETH_USD_211203_6000_P</td>\n",
       "      <td>DERIBIT</td>\n",
       "      <td>OPTION</td>\n",
       "      <td>ETH</td>\n",
       "      <td>USD</td>\n",
       "      <td>False</td>\n",
       "      <td>6000.0</td>\n",
       "      <td>1.000</td>\n",
       "      <td>2021-12-03T08:00:00.0000000Z</td>\n",
       "      <td>NaN</td>\n",
       "      <td>...</td>\n",
       "      <td>NaN</td>\n",
       "      <td>NaN</td>\n",
       "      <td>NaN</td>\n",
       "      <td>NaN</td>\n",
       "      <td>NaN</td>\n",
       "      <td>NaN</td>\n",
       "      <td>NaN</td>\n",
       "      <td>NaN</td>\n",
       "      <td>NaN</td>\n",
       "      <td>NaN</td>\n",
       "    </tr>\n",
       "    <tr>\n",
       "      <th>342219</th>\n",
       "      <td>DERIBIT_OPT_ETH_USD_211121_4650_C</td>\n",
       "      <td>DERIBIT</td>\n",
       "      <td>OPTION</td>\n",
       "      <td>ETH</td>\n",
       "      <td>USD</td>\n",
       "      <td>True</td>\n",
       "      <td>4650.0</td>\n",
       "      <td>1.000</td>\n",
       "      <td>2021-11-21T08:00:00.0000000Z</td>\n",
       "      <td>NaN</td>\n",
       "      <td>...</td>\n",
       "      <td>NaN</td>\n",
       "      <td>NaN</td>\n",
       "      <td>NaN</td>\n",
       "      <td>NaN</td>\n",
       "      <td>NaN</td>\n",
       "      <td>NaN</td>\n",
       "      <td>NaN</td>\n",
       "      <td>NaN</td>\n",
       "      <td>NaN</td>\n",
       "      <td>NaN</td>\n",
       "    </tr>\n",
       "    <tr>\n",
       "      <th>342220</th>\n",
       "      <td>DERIBIT_OPT_ETH_USD_211123_4800_C</td>\n",
       "      <td>DERIBIT</td>\n",
       "      <td>OPTION</td>\n",
       "      <td>ETH</td>\n",
       "      <td>USD</td>\n",
       "      <td>True</td>\n",
       "      <td>4800.0</td>\n",
       "      <td>1.000</td>\n",
       "      <td>2021-11-23T08:00:00.0000000Z</td>\n",
       "      <td>NaN</td>\n",
       "      <td>...</td>\n",
       "      <td>NaN</td>\n",
       "      <td>NaN</td>\n",
       "      <td>NaN</td>\n",
       "      <td>NaN</td>\n",
       "      <td>NaN</td>\n",
       "      <td>NaN</td>\n",
       "      <td>NaN</td>\n",
       "      <td>NaN</td>\n",
       "      <td>NaN</td>\n",
       "      <td>NaN</td>\n",
       "    </tr>\n",
       "    <tr>\n",
       "      <th>342221</th>\n",
       "      <td>DERIBIT_OPT_ETH_USD_211122_4050_C</td>\n",
       "      <td>DERIBIT</td>\n",
       "      <td>OPTION</td>\n",
       "      <td>ETH</td>\n",
       "      <td>USD</td>\n",
       "      <td>True</td>\n",
       "      <td>4050.0</td>\n",
       "      <td>1.000</td>\n",
       "      <td>2021-11-22T08:00:00.0000000Z</td>\n",
       "      <td>NaN</td>\n",
       "      <td>...</td>\n",
       "      <td>NaN</td>\n",
       "      <td>NaN</td>\n",
       "      <td>NaN</td>\n",
       "      <td>NaN</td>\n",
       "      <td>NaN</td>\n",
       "      <td>NaN</td>\n",
       "      <td>NaN</td>\n",
       "      <td>NaN</td>\n",
       "      <td>NaN</td>\n",
       "      <td>NaN</td>\n",
       "    </tr>\n",
       "  </tbody>\n",
       "</table>\n",
       "<p>342222 rows × 42 columns</p>\n",
       "</div>"
      ],
      "text/plain": [
       "                                        symbol_id    exchange_id symbol_type  \\\n",
       "0       DELTAEXCHANGE_OPT_BTC_USDT_220320_43000_P  DELTAEXCHANGE      OPTION   \n",
       "1       DELTAEXCHANGE_OPT_BTC_USDT_220320_38500_C  DELTAEXCHANGE      OPTION   \n",
       "2       DELTAEXCHANGE_OPT_BTC_USDT_220320_41250_C  DELTAEXCHANGE      OPTION   \n",
       "3        DELTAEXCHANGE_OPT_ETH_USDT_220320_2800_C  DELTAEXCHANGE      OPTION   \n",
       "4       DELTAEXCHANGE_OPT_BTC_USDT_220320_38750_C  DELTAEXCHANGE      OPTION   \n",
       "...                                           ...            ...         ...   \n",
       "342217         DERIBIT_OPT_BTC_USD_210630_32000_C        DERIBIT      OPTION   \n",
       "342218          DERIBIT_OPT_ETH_USD_211203_6000_P        DERIBIT      OPTION   \n",
       "342219          DERIBIT_OPT_ETH_USD_211121_4650_C        DERIBIT      OPTION   \n",
       "342220          DERIBIT_OPT_ETH_USD_211123_4800_C        DERIBIT      OPTION   \n",
       "342221          DERIBIT_OPT_ETH_USD_211122_4050_C        DERIBIT      OPTION   \n",
       "\n",
       "       asset_id_base asset_id_quote option_type_is_call  option_strike_price  \\\n",
       "0                BTC           USDT               False              43000.0   \n",
       "1                BTC           USDT                True              38500.0   \n",
       "2                BTC           USDT                True              41250.0   \n",
       "3                ETH           USDT                True               2800.0   \n",
       "4                BTC           USDT                True              38750.0   \n",
       "...              ...            ...                 ...                  ...   \n",
       "342217           BTC            USD                True              32000.0   \n",
       "342218           ETH            USD               False               6000.0   \n",
       "342219           ETH            USD                True               4650.0   \n",
       "342220           ETH            USD                True               4800.0   \n",
       "342221           ETH            USD                True               4050.0   \n",
       "\n",
       "        option_contract_unit        option_expiration_time    data_end  ...  \\\n",
       "0                      0.001  2022-03-20T12:00:00.0000000Z  2022-03-20  ...   \n",
       "1                      0.001  2022-03-20T12:00:00.0000000Z  2022-03-20  ...   \n",
       "2                      0.001  2022-03-20T12:00:00.0000000Z  2022-03-20  ...   \n",
       "3                      0.010  2022-03-20T12:00:00.0000000Z  2022-03-20  ...   \n",
       "4                      0.001  2022-03-20T12:00:00.0000000Z  2022-03-20  ...   \n",
       "...                      ...                           ...         ...  ...   \n",
       "342217                 1.000  2021-06-30T08:00:00.0000000Z         NaN  ...   \n",
       "342218                 1.000  2021-12-03T08:00:00.0000000Z         NaN  ...   \n",
       "342219                 1.000  2021-11-21T08:00:00.0000000Z         NaN  ...   \n",
       "342220                 1.000  2021-11-23T08:00:00.0000000Z         NaN  ...   \n",
       "342221                 1.000  2021-11-22T08:00:00.0000000Z         NaN  ...   \n",
       "\n",
       "       volume_1hrs volume_1hrs_usd volume_1day volume_1day_usd volume_1mth  \\\n",
       "0              NaN             NaN         NaN             NaN         NaN   \n",
       "1              NaN             NaN         NaN             NaN         NaN   \n",
       "2              NaN             NaN         NaN             NaN         NaN   \n",
       "3              NaN             NaN         NaN             NaN         NaN   \n",
       "4              NaN             NaN         NaN             NaN         NaN   \n",
       "...            ...             ...         ...             ...         ...   \n",
       "342217         NaN             NaN         NaN             NaN         NaN   \n",
       "342218         NaN             NaN         NaN             NaN         NaN   \n",
       "342219         NaN             NaN         NaN             NaN         NaN   \n",
       "342220         NaN             NaN         NaN             NaN         NaN   \n",
       "342221         NaN             NaN         NaN             NaN         NaN   \n",
       "\n",
       "        volume_1mth_usd  price index_id  index_display_name  \\\n",
       "0                   NaN    NaN      NaN                 NaN   \n",
       "1                   NaN    NaN      NaN                 NaN   \n",
       "2                   NaN    NaN      NaN                 NaN   \n",
       "3                   NaN    NaN      NaN                 NaN   \n",
       "4                   NaN    NaN      NaN                 NaN   \n",
       "...                 ...    ...      ...                 ...   \n",
       "342217              NaN    NaN      NaN                 NaN   \n",
       "342218              NaN    NaN      NaN                 NaN   \n",
       "342219              NaN    NaN      NaN                 NaN   \n",
       "342220              NaN    NaN      NaN                 NaN   \n",
       "342221              NaN    NaN      NaN                 NaN   \n",
       "\n",
       "       index_display_description  \n",
       "0                            NaN  \n",
       "1                            NaN  \n",
       "2                            NaN  \n",
       "3                            NaN  \n",
       "4                            NaN  \n",
       "...                          ...  \n",
       "342217                       NaN  \n",
       "342218                       NaN  \n",
       "342219                       NaN  \n",
       "342220                       NaN  \n",
       "342221                       NaN  \n",
       "\n",
       "[342222 rows x 42 columns]"
      ]
     },
     "execution_count": 14,
     "metadata": {},
     "output_type": "execute_result"
    }
   ],
   "source": [
    "url = 'https://rest.coinapi.io/v1/symbols'\n",
    "headers = {'X-CoinAPI-Key' : api}\n",
    "response = requests.get(url, headers=headers)\n",
    "\n",
    "symbols = pd.DataFrame(json.loads(response.text))\n",
    "symbols"
   ]
  },
  {
   "cell_type": "markdown",
   "id": "3f0943bd",
   "metadata": {},
   "source": [
    "### Exchange Rates"
   ]
  },
  {
   "cell_type": "code",
   "execution_count": 16,
   "id": "b6f3f8ef",
   "metadata": {},
   "outputs": [
    {
     "data": {
      "text/plain": [
       "{'time': '2022-09-09T06:56:50.0000000Z',\n",
       " 'asset_id_base': 'BTC',\n",
       " 'asset_id_quote': 'USD',\n",
       " 'rate': 20700.865128634945}"
      ]
     },
     "execution_count": 16,
     "metadata": {},
     "output_type": "execute_result"
    }
   ],
   "source": [
    "# getting the exchange rates for the pair of scripts\n",
    "\n",
    "url = 'https://rest.coinapi.io/v1/exchangerate/BTC/USD'\n",
    "headers = {'X-CoinAPI-Key' : api}\n",
    "response = requests.get(url, headers=headers)\n",
    "ex_rates = json.loads(response.text)\n",
    "ex_rates\n",
    "# ex_rates = pd.DataFrame(json.loads(response.text))"
   ]
  },
  {
   "cell_type": "code",
   "execution_count": 17,
   "id": "8a29a46c",
   "metadata": {},
   "outputs": [
    {
     "data": {
      "text/html": [
       "<div>\n",
       "<style scoped>\n",
       "    .dataframe tbody tr th:only-of-type {\n",
       "        vertical-align: middle;\n",
       "    }\n",
       "\n",
       "    .dataframe tbody tr th {\n",
       "        vertical-align: top;\n",
       "    }\n",
       "\n",
       "    .dataframe thead th {\n",
       "        text-align: right;\n",
       "    }\n",
       "</style>\n",
       "<table border=\"1\" class=\"dataframe\">\n",
       "  <thead>\n",
       "    <tr style=\"text-align: right;\">\n",
       "      <th></th>\n",
       "      <th>asset_id_base</th>\n",
       "      <th>rates</th>\n",
       "    </tr>\n",
       "  </thead>\n",
       "  <tbody>\n",
       "    <tr>\n",
       "      <th>0</th>\n",
       "      <td>BTC</td>\n",
       "      <td>{'time': '2022-09-09T06:58:41.0000000Z', 'asse...</td>\n",
       "    </tr>\n",
       "    <tr>\n",
       "      <th>1</th>\n",
       "      <td>BTC</td>\n",
       "      <td>{'time': '2022-09-09T06:58:41.0000000Z', 'asse...</td>\n",
       "    </tr>\n",
       "    <tr>\n",
       "      <th>2</th>\n",
       "      <td>BTC</td>\n",
       "      <td>{'time': '2022-09-09T06:58:41.0000000Z', 'asse...</td>\n",
       "    </tr>\n",
       "    <tr>\n",
       "      <th>3</th>\n",
       "      <td>BTC</td>\n",
       "      <td>{'time': '2022-09-09T06:58:41.0000000Z', 'asse...</td>\n",
       "    </tr>\n",
       "    <tr>\n",
       "      <th>4</th>\n",
       "      <td>BTC</td>\n",
       "      <td>{'time': '2022-09-09T06:58:41.0000000Z', 'asse...</td>\n",
       "    </tr>\n",
       "    <tr>\n",
       "      <th>...</th>\n",
       "      <td>...</td>\n",
       "      <td>...</td>\n",
       "    </tr>\n",
       "    <tr>\n",
       "      <th>4891</th>\n",
       "      <td>BTC</td>\n",
       "      <td>{'time': '2022-09-09T06:58:41.0000000Z', 'asse...</td>\n",
       "    </tr>\n",
       "    <tr>\n",
       "      <th>4892</th>\n",
       "      <td>BTC</td>\n",
       "      <td>{'time': '2022-09-09T06:58:41.0000000Z', 'asse...</td>\n",
       "    </tr>\n",
       "    <tr>\n",
       "      <th>4893</th>\n",
       "      <td>BTC</td>\n",
       "      <td>{'time': '2022-09-09T06:58:41.0000000Z', 'asse...</td>\n",
       "    </tr>\n",
       "    <tr>\n",
       "      <th>4894</th>\n",
       "      <td>BTC</td>\n",
       "      <td>{'time': '2022-09-09T06:58:41.0000000Z', 'asse...</td>\n",
       "    </tr>\n",
       "    <tr>\n",
       "      <th>4895</th>\n",
       "      <td>BTC</td>\n",
       "      <td>{'time': '2022-09-09T06:58:41.0000000Z', 'asse...</td>\n",
       "    </tr>\n",
       "  </tbody>\n",
       "</table>\n",
       "<p>4896 rows × 2 columns</p>\n",
       "</div>"
      ],
      "text/plain": [
       "     asset_id_base                                              rates\n",
       "0              BTC  {'time': '2022-09-09T06:58:41.0000000Z', 'asse...\n",
       "1              BTC  {'time': '2022-09-09T06:58:41.0000000Z', 'asse...\n",
       "2              BTC  {'time': '2022-09-09T06:58:41.0000000Z', 'asse...\n",
       "3              BTC  {'time': '2022-09-09T06:58:41.0000000Z', 'asse...\n",
       "4              BTC  {'time': '2022-09-09T06:58:41.0000000Z', 'asse...\n",
       "...            ...                                                ...\n",
       "4891           BTC  {'time': '2022-09-09T06:58:41.0000000Z', 'asse...\n",
       "4892           BTC  {'time': '2022-09-09T06:58:41.0000000Z', 'asse...\n",
       "4893           BTC  {'time': '2022-09-09T06:58:41.0000000Z', 'asse...\n",
       "4894           BTC  {'time': '2022-09-09T06:58:41.0000000Z', 'asse...\n",
       "4895           BTC  {'time': '2022-09-09T06:58:41.0000000Z', 'asse...\n",
       "\n",
       "[4896 rows x 2 columns]"
      ]
     },
     "execution_count": 17,
     "metadata": {},
     "output_type": "execute_result"
    }
   ],
   "source": [
    "# getting all the exchange rates for a base script at a given point in time\n",
    "url = 'https://rest.coinapi.io/v1/exchangerate/BTC?invert=false'\n",
    "headers = {'X-CoinAPI-Key' : api}\n",
    "response = requests.get(url, headers=headers)\n",
    "\n",
    "ex_rates_all = pd.DataFrame(json.loads(response.text))\n",
    "ex_rates_all"
   ]
  },
  {
   "cell_type": "code",
   "execution_count": 21,
   "id": "b17eabc2",
   "metadata": {},
   "outputs": [
    {
     "data": {
      "text/html": [
       "<div>\n",
       "<style scoped>\n",
       "    .dataframe tbody tr th:only-of-type {\n",
       "        vertical-align: middle;\n",
       "    }\n",
       "\n",
       "    .dataframe tbody tr th {\n",
       "        vertical-align: top;\n",
       "    }\n",
       "\n",
       "    .dataframe thead th {\n",
       "        text-align: right;\n",
       "    }\n",
       "</style>\n",
       "<table border=\"1\" class=\"dataframe\">\n",
       "  <thead>\n",
       "    <tr style=\"text-align: right;\">\n",
       "      <th></th>\n",
       "      <th>time</th>\n",
       "      <th>asset_id_quote</th>\n",
       "      <th>rate</th>\n",
       "    </tr>\n",
       "  </thead>\n",
       "  <tbody>\n",
       "    <tr>\n",
       "      <th>0</th>\n",
       "      <td>2022-09-09T06:58:41.0000000Z</td>\n",
       "      <td>$ADS</td>\n",
       "      <td>1.740312e+05</td>\n",
       "    </tr>\n",
       "    <tr>\n",
       "      <th>1</th>\n",
       "      <td>2022-09-09T06:58:41.0000000Z</td>\n",
       "      <td>$CINU</td>\n",
       "      <td>1.504118e+19</td>\n",
       "    </tr>\n",
       "    <tr>\n",
       "      <th>2</th>\n",
       "      <td>2022-09-09T06:58:41.0000000Z</td>\n",
       "      <td>$PAC</td>\n",
       "      <td>4.263670e+07</td>\n",
       "    </tr>\n",
       "    <tr>\n",
       "      <th>3</th>\n",
       "      <td>2022-09-09T06:58:41.0000000Z</td>\n",
       "      <td>0X</td>\n",
       "      <td>6.715746e+04</td>\n",
       "    </tr>\n",
       "    <tr>\n",
       "      <th>4</th>\n",
       "      <td>2022-09-09T06:58:41.0000000Z</td>\n",
       "      <td>0XBTC</td>\n",
       "      <td>9.160427e+04</td>\n",
       "    </tr>\n",
       "    <tr>\n",
       "      <th>...</th>\n",
       "      <td>...</td>\n",
       "      <td>...</td>\n",
       "      <td>...</td>\n",
       "    </tr>\n",
       "    <tr>\n",
       "      <th>4891</th>\n",
       "      <td>2022-09-09T06:58:41.0000000Z</td>\n",
       "      <td>ZTO</td>\n",
       "      <td>7.924940e+02</td>\n",
       "    </tr>\n",
       "    <tr>\n",
       "      <th>4892</th>\n",
       "      <td>2022-09-09T06:58:41.0000000Z</td>\n",
       "      <td>ZWAP</td>\n",
       "      <td>7.811300e+03</td>\n",
       "    </tr>\n",
       "    <tr>\n",
       "      <th>4893</th>\n",
       "      <td>2022-09-09T06:58:41.0000000Z</td>\n",
       "      <td>ZYN</td>\n",
       "      <td>9.705352e+04</td>\n",
       "    </tr>\n",
       "    <tr>\n",
       "      <th>4894</th>\n",
       "      <td>2022-09-09T06:58:41.0000000Z</td>\n",
       "      <td>ZYR</td>\n",
       "      <td>1.843308e+06</td>\n",
       "    </tr>\n",
       "    <tr>\n",
       "      <th>4895</th>\n",
       "      <td>2022-09-09T06:58:41.0000000Z</td>\n",
       "      <td>ZYRO</td>\n",
       "      <td>4.779828e+06</td>\n",
       "    </tr>\n",
       "  </tbody>\n",
       "</table>\n",
       "<p>4896 rows × 3 columns</p>\n",
       "</div>"
      ],
      "text/plain": [
       "                              time asset_id_quote          rate\n",
       "0     2022-09-09T06:58:41.0000000Z           $ADS  1.740312e+05\n",
       "1     2022-09-09T06:58:41.0000000Z          $CINU  1.504118e+19\n",
       "2     2022-09-09T06:58:41.0000000Z           $PAC  4.263670e+07\n",
       "3     2022-09-09T06:58:41.0000000Z             0X  6.715746e+04\n",
       "4     2022-09-09T06:58:41.0000000Z          0XBTC  9.160427e+04\n",
       "...                            ...            ...           ...\n",
       "4891  2022-09-09T06:58:41.0000000Z            ZTO  7.924940e+02\n",
       "4892  2022-09-09T06:58:41.0000000Z           ZWAP  7.811300e+03\n",
       "4893  2022-09-09T06:58:41.0000000Z            ZYN  9.705352e+04\n",
       "4894  2022-09-09T06:58:41.0000000Z            ZYR  1.843308e+06\n",
       "4895  2022-09-09T06:58:41.0000000Z           ZYRO  4.779828e+06\n",
       "\n",
       "[4896 rows x 3 columns]"
      ]
     },
     "execution_count": 21,
     "metadata": {},
     "output_type": "execute_result"
    }
   ],
   "source": [
    "\n",
    "ex_rates_all = pd.DataFrame(json.loads(response.text)['rates'])\n",
    "ex_rates_all"
   ]
  },
  {
   "cell_type": "markdown",
   "id": "708a33fd",
   "metadata": {},
   "source": [
    "### Getting Hiostorical Data"
   ]
  },
  {
   "cell_type": "code",
   "execution_count": 22,
   "id": "1c2b6ce1",
   "metadata": {},
   "outputs": [
    {
     "data": {
      "text/html": [
       "<div>\n",
       "<style scoped>\n",
       "    .dataframe tbody tr th:only-of-type {\n",
       "        vertical-align: middle;\n",
       "    }\n",
       "\n",
       "    .dataframe tbody tr th {\n",
       "        vertical-align: top;\n",
       "    }\n",
       "\n",
       "    .dataframe thead th {\n",
       "        text-align: right;\n",
       "    }\n",
       "</style>\n",
       "<table border=\"1\" class=\"dataframe\">\n",
       "  <thead>\n",
       "    <tr style=\"text-align: right;\">\n",
       "      <th></th>\n",
       "      <th>time_period_start</th>\n",
       "      <th>time_period_end</th>\n",
       "      <th>time_open</th>\n",
       "      <th>time_close</th>\n",
       "      <th>rate_open</th>\n",
       "      <th>rate_high</th>\n",
       "      <th>rate_low</th>\n",
       "      <th>rate_close</th>\n",
       "    </tr>\n",
       "  </thead>\n",
       "  <tbody>\n",
       "    <tr>\n",
       "      <th>0</th>\n",
       "      <td>2022-01-01T00:00:00.0000000Z</td>\n",
       "      <td>2022-01-01T00:01:00.0000000Z</td>\n",
       "      <td>2022-01-01T00:00:00.0000000Z</td>\n",
       "      <td>2022-01-01T00:00:00.0000000Z</td>\n",
       "      <td>46210.127850</td>\n",
       "      <td>46210.127850</td>\n",
       "      <td>46210.127850</td>\n",
       "      <td>46210.127850</td>\n",
       "    </tr>\n",
       "    <tr>\n",
       "      <th>1</th>\n",
       "      <td>2022-01-01T00:01:00.0000000Z</td>\n",
       "      <td>2022-01-01T00:02:00.0000000Z</td>\n",
       "      <td>2022-01-01T00:01:00.0000000Z</td>\n",
       "      <td>2022-01-01T00:01:00.0000000Z</td>\n",
       "      <td>46210.127850</td>\n",
       "      <td>46210.127850</td>\n",
       "      <td>46210.127850</td>\n",
       "      <td>46210.127850</td>\n",
       "    </tr>\n",
       "    <tr>\n",
       "      <th>2</th>\n",
       "      <td>2022-01-01T00:02:00.0000000Z</td>\n",
       "      <td>2022-01-01T00:03:00.0000000Z</td>\n",
       "      <td>2022-01-01T00:02:00.0000000Z</td>\n",
       "      <td>2022-01-01T00:02:00.0000000Z</td>\n",
       "      <td>46308.394652</td>\n",
       "      <td>46308.394652</td>\n",
       "      <td>46308.394652</td>\n",
       "      <td>46308.394652</td>\n",
       "    </tr>\n",
       "    <tr>\n",
       "      <th>3</th>\n",
       "      <td>2022-01-01T00:03:00.0000000Z</td>\n",
       "      <td>2022-01-01T00:04:00.0000000Z</td>\n",
       "      <td>2022-01-01T00:03:00.0000000Z</td>\n",
       "      <td>2022-01-01T00:03:00.0000000Z</td>\n",
       "      <td>46359.420311</td>\n",
       "      <td>46359.420311</td>\n",
       "      <td>46359.420311</td>\n",
       "      <td>46359.420311</td>\n",
       "    </tr>\n",
       "    <tr>\n",
       "      <th>4</th>\n",
       "      <td>2022-01-01T00:04:00.0000000Z</td>\n",
       "      <td>2022-01-01T00:05:00.0000000Z</td>\n",
       "      <td>2022-01-01T00:04:00.0000000Z</td>\n",
       "      <td>2022-01-01T00:04:00.0000000Z</td>\n",
       "      <td>46336.650261</td>\n",
       "      <td>46336.650261</td>\n",
       "      <td>46336.650261</td>\n",
       "      <td>46336.650261</td>\n",
       "    </tr>\n",
       "    <tr>\n",
       "      <th>...</th>\n",
       "      <td>...</td>\n",
       "      <td>...</td>\n",
       "      <td>...</td>\n",
       "      <td>...</td>\n",
       "      <td>...</td>\n",
       "      <td>...</td>\n",
       "      <td>...</td>\n",
       "      <td>...</td>\n",
       "    </tr>\n",
       "    <tr>\n",
       "      <th>95</th>\n",
       "      <td>2022-01-01T01:35:00.0000000Z</td>\n",
       "      <td>2022-01-01T01:36:00.0000000Z</td>\n",
       "      <td>2022-01-01T01:35:00.0000000Z</td>\n",
       "      <td>2022-01-01T01:35:00.0000000Z</td>\n",
       "      <td>46841.772040</td>\n",
       "      <td>46841.772040</td>\n",
       "      <td>46841.772040</td>\n",
       "      <td>46841.772040</td>\n",
       "    </tr>\n",
       "    <tr>\n",
       "      <th>96</th>\n",
       "      <td>2022-01-01T01:36:00.0000000Z</td>\n",
       "      <td>2022-01-01T01:37:00.0000000Z</td>\n",
       "      <td>2022-01-01T01:36:00.0000000Z</td>\n",
       "      <td>2022-01-01T01:36:00.0000000Z</td>\n",
       "      <td>46853.037857</td>\n",
       "      <td>46853.037857</td>\n",
       "      <td>46853.037857</td>\n",
       "      <td>46853.037857</td>\n",
       "    </tr>\n",
       "    <tr>\n",
       "      <th>97</th>\n",
       "      <td>2022-01-01T01:37:00.0000000Z</td>\n",
       "      <td>2022-01-01T01:38:00.0000000Z</td>\n",
       "      <td>2022-01-01T01:37:00.0000000Z</td>\n",
       "      <td>2022-01-01T01:37:00.0000000Z</td>\n",
       "      <td>46869.313543</td>\n",
       "      <td>46869.313543</td>\n",
       "      <td>46869.313543</td>\n",
       "      <td>46869.313543</td>\n",
       "    </tr>\n",
       "    <tr>\n",
       "      <th>98</th>\n",
       "      <td>2022-01-01T01:38:00.0000000Z</td>\n",
       "      <td>2022-01-01T01:39:00.0000000Z</td>\n",
       "      <td>2022-01-01T01:38:00.0000000Z</td>\n",
       "      <td>2022-01-01T01:38:00.0000000Z</td>\n",
       "      <td>46841.878953</td>\n",
       "      <td>46841.878953</td>\n",
       "      <td>46841.878953</td>\n",
       "      <td>46841.878953</td>\n",
       "    </tr>\n",
       "    <tr>\n",
       "      <th>99</th>\n",
       "      <td>2022-01-01T01:39:00.0000000Z</td>\n",
       "      <td>2022-01-01T01:40:00.0000000Z</td>\n",
       "      <td>2022-01-01T01:39:00.0000000Z</td>\n",
       "      <td>2022-01-01T01:39:00.0000000Z</td>\n",
       "      <td>46794.172380</td>\n",
       "      <td>46794.172380</td>\n",
       "      <td>46794.172380</td>\n",
       "      <td>46794.172380</td>\n",
       "    </tr>\n",
       "  </tbody>\n",
       "</table>\n",
       "<p>100 rows × 8 columns</p>\n",
       "</div>"
      ],
      "text/plain": [
       "               time_period_start               time_period_end  \\\n",
       "0   2022-01-01T00:00:00.0000000Z  2022-01-01T00:01:00.0000000Z   \n",
       "1   2022-01-01T00:01:00.0000000Z  2022-01-01T00:02:00.0000000Z   \n",
       "2   2022-01-01T00:02:00.0000000Z  2022-01-01T00:03:00.0000000Z   \n",
       "3   2022-01-01T00:03:00.0000000Z  2022-01-01T00:04:00.0000000Z   \n",
       "4   2022-01-01T00:04:00.0000000Z  2022-01-01T00:05:00.0000000Z   \n",
       "..                           ...                           ...   \n",
       "95  2022-01-01T01:35:00.0000000Z  2022-01-01T01:36:00.0000000Z   \n",
       "96  2022-01-01T01:36:00.0000000Z  2022-01-01T01:37:00.0000000Z   \n",
       "97  2022-01-01T01:37:00.0000000Z  2022-01-01T01:38:00.0000000Z   \n",
       "98  2022-01-01T01:38:00.0000000Z  2022-01-01T01:39:00.0000000Z   \n",
       "99  2022-01-01T01:39:00.0000000Z  2022-01-01T01:40:00.0000000Z   \n",
       "\n",
       "                       time_open                    time_close     rate_open  \\\n",
       "0   2022-01-01T00:00:00.0000000Z  2022-01-01T00:00:00.0000000Z  46210.127850   \n",
       "1   2022-01-01T00:01:00.0000000Z  2022-01-01T00:01:00.0000000Z  46210.127850   \n",
       "2   2022-01-01T00:02:00.0000000Z  2022-01-01T00:02:00.0000000Z  46308.394652   \n",
       "3   2022-01-01T00:03:00.0000000Z  2022-01-01T00:03:00.0000000Z  46359.420311   \n",
       "4   2022-01-01T00:04:00.0000000Z  2022-01-01T00:04:00.0000000Z  46336.650261   \n",
       "..                           ...                           ...           ...   \n",
       "95  2022-01-01T01:35:00.0000000Z  2022-01-01T01:35:00.0000000Z  46841.772040   \n",
       "96  2022-01-01T01:36:00.0000000Z  2022-01-01T01:36:00.0000000Z  46853.037857   \n",
       "97  2022-01-01T01:37:00.0000000Z  2022-01-01T01:37:00.0000000Z  46869.313543   \n",
       "98  2022-01-01T01:38:00.0000000Z  2022-01-01T01:38:00.0000000Z  46841.878953   \n",
       "99  2022-01-01T01:39:00.0000000Z  2022-01-01T01:39:00.0000000Z  46794.172380   \n",
       "\n",
       "       rate_high      rate_low    rate_close  \n",
       "0   46210.127850  46210.127850  46210.127850  \n",
       "1   46210.127850  46210.127850  46210.127850  \n",
       "2   46308.394652  46308.394652  46308.394652  \n",
       "3   46359.420311  46359.420311  46359.420311  \n",
       "4   46336.650261  46336.650261  46336.650261  \n",
       "..           ...           ...           ...  \n",
       "95  46841.772040  46841.772040  46841.772040  \n",
       "96  46853.037857  46853.037857  46853.037857  \n",
       "97  46869.313543  46869.313543  46869.313543  \n",
       "98  46841.878953  46841.878953  46841.878953  \n",
       "99  46794.172380  46794.172380  46794.172380  \n",
       "\n",
       "[100 rows x 8 columns]"
      ]
     },
     "execution_count": 22,
     "metadata": {},
     "output_type": "execute_result"
    }
   ],
   "source": [
    "url = 'https://rest.coinapi.io/v1/exchangerate/BTC/USD/history?period_id=1MIN&time_start=2022-01-01T00:00:00&time_end=2022-08-01T00:00:00'\n",
    "headers = {'X-CoinAPI-Key' : api}\n",
    "response = requests.get(url, headers=headers)\n",
    "\n",
    "btc_data = pd.DataFrame(json.loads(response.text))\n",
    "btc_data"
   ]
  },
  {
   "cell_type": "markdown",
   "id": "534ace9e",
   "metadata": {},
   "source": [
    "### Getting OHLCV data"
   ]
  },
  {
   "cell_type": "code",
   "execution_count": 26,
   "id": "2643c4b2",
   "metadata": {},
   "outputs": [],
   "source": [
    "url = 'https://rest.coinapi.io/v1/ohlcv/BITSTAMP_SPOT_BTC_USD/latest?period_id=1MIN'\n",
    "headers = {'X-CoinAPI-Key' : api}\n",
    "response = requests.get(url, headers=headers)"
   ]
  },
  {
   "cell_type": "code",
   "execution_count": 29,
   "id": "aa4ce1af",
   "metadata": {},
   "outputs": [
    {
     "data": {
      "text/html": [
       "<div>\n",
       "<style scoped>\n",
       "    .dataframe tbody tr th:only-of-type {\n",
       "        vertical-align: middle;\n",
       "    }\n",
       "\n",
       "    .dataframe tbody tr th {\n",
       "        vertical-align: top;\n",
       "    }\n",
       "\n",
       "    .dataframe thead th {\n",
       "        text-align: right;\n",
       "    }\n",
       "</style>\n",
       "<table border=\"1\" class=\"dataframe\">\n",
       "  <thead>\n",
       "    <tr style=\"text-align: right;\">\n",
       "      <th></th>\n",
       "      <th>time_period_start</th>\n",
       "      <th>time_period_end</th>\n",
       "      <th>time_open</th>\n",
       "      <th>time_close</th>\n",
       "      <th>price_open</th>\n",
       "      <th>price_high</th>\n",
       "      <th>price_low</th>\n",
       "      <th>price_close</th>\n",
       "      <th>volume_traded</th>\n",
       "      <th>trades_count</th>\n",
       "    </tr>\n",
       "  </thead>\n",
       "  <tbody>\n",
       "    <tr>\n",
       "      <th>0</th>\n",
       "      <td>2022-09-09T07:06:00.0000000Z</td>\n",
       "      <td>2022-09-09T07:07:00.0000000Z</td>\n",
       "      <td>2022-09-09T07:06:27.5100000Z</td>\n",
       "      <td>2022-09-09T07:06:49.5160000Z</td>\n",
       "      <td>20675.0</td>\n",
       "      <td>20676.0</td>\n",
       "      <td>20670.0</td>\n",
       "      <td>20675.0</td>\n",
       "      <td>1.945304</td>\n",
       "      <td>19</td>\n",
       "    </tr>\n",
       "    <tr>\n",
       "      <th>1</th>\n",
       "      <td>2022-09-09T07:05:00.0000000Z</td>\n",
       "      <td>2022-09-09T07:06:00.0000000Z</td>\n",
       "      <td>2022-09-09T07:05:00.2730000Z</td>\n",
       "      <td>2022-09-09T07:05:55.1180000Z</td>\n",
       "      <td>20646.0</td>\n",
       "      <td>20669.0</td>\n",
       "      <td>20646.0</td>\n",
       "      <td>20664.0</td>\n",
       "      <td>1.521490</td>\n",
       "      <td>15</td>\n",
       "    </tr>\n",
       "    <tr>\n",
       "      <th>2</th>\n",
       "      <td>2022-09-09T07:04:00.0000000Z</td>\n",
       "      <td>2022-09-09T07:05:00.0000000Z</td>\n",
       "      <td>2022-09-09T07:04:06.2250000Z</td>\n",
       "      <td>2022-09-09T07:04:59.0760000Z</td>\n",
       "      <td>20625.0</td>\n",
       "      <td>20646.0</td>\n",
       "      <td>20625.0</td>\n",
       "      <td>20646.0</td>\n",
       "      <td>0.879808</td>\n",
       "      <td>13</td>\n",
       "    </tr>\n",
       "    <tr>\n",
       "      <th>3</th>\n",
       "      <td>2022-09-09T07:03:00.0000000Z</td>\n",
       "      <td>2022-09-09T07:04:00.0000000Z</td>\n",
       "      <td>2022-09-09T07:03:02.7300000Z</td>\n",
       "      <td>2022-09-09T07:03:45.1220000Z</td>\n",
       "      <td>20648.0</td>\n",
       "      <td>20665.0</td>\n",
       "      <td>20648.0</td>\n",
       "      <td>20656.0</td>\n",
       "      <td>4.219633</td>\n",
       "      <td>16</td>\n",
       "    </tr>\n",
       "    <tr>\n",
       "      <th>4</th>\n",
       "      <td>2022-09-09T07:02:00.0000000Z</td>\n",
       "      <td>2022-09-09T07:03:00.0000000Z</td>\n",
       "      <td>2022-09-09T07:02:02.3040000Z</td>\n",
       "      <td>2022-09-09T07:02:34.2670000Z</td>\n",
       "      <td>20661.0</td>\n",
       "      <td>20667.0</td>\n",
       "      <td>20643.0</td>\n",
       "      <td>20643.0</td>\n",
       "      <td>1.036038</td>\n",
       "      <td>6</td>\n",
       "    </tr>\n",
       "  </tbody>\n",
       "</table>\n",
       "</div>"
      ],
      "text/plain": [
       "              time_period_start               time_period_end  \\\n",
       "0  2022-09-09T07:06:00.0000000Z  2022-09-09T07:07:00.0000000Z   \n",
       "1  2022-09-09T07:05:00.0000000Z  2022-09-09T07:06:00.0000000Z   \n",
       "2  2022-09-09T07:04:00.0000000Z  2022-09-09T07:05:00.0000000Z   \n",
       "3  2022-09-09T07:03:00.0000000Z  2022-09-09T07:04:00.0000000Z   \n",
       "4  2022-09-09T07:02:00.0000000Z  2022-09-09T07:03:00.0000000Z   \n",
       "\n",
       "                      time_open                    time_close  price_open  \\\n",
       "0  2022-09-09T07:06:27.5100000Z  2022-09-09T07:06:49.5160000Z     20675.0   \n",
       "1  2022-09-09T07:05:00.2730000Z  2022-09-09T07:05:55.1180000Z     20646.0   \n",
       "2  2022-09-09T07:04:06.2250000Z  2022-09-09T07:04:59.0760000Z     20625.0   \n",
       "3  2022-09-09T07:03:02.7300000Z  2022-09-09T07:03:45.1220000Z     20648.0   \n",
       "4  2022-09-09T07:02:02.3040000Z  2022-09-09T07:02:34.2670000Z     20661.0   \n",
       "\n",
       "   price_high  price_low  price_close  volume_traded  trades_count  \n",
       "0     20676.0    20670.0      20675.0       1.945304            19  \n",
       "1     20669.0    20646.0      20664.0       1.521490            15  \n",
       "2     20646.0    20625.0      20646.0       0.879808            13  \n",
       "3     20665.0    20648.0      20656.0       4.219633            16  \n",
       "4     20667.0    20643.0      20643.0       1.036038             6  "
      ]
     },
     "execution_count": 29,
     "metadata": {},
     "output_type": "execute_result"
    }
   ],
   "source": [
    "btc_usd = pd.DataFrame(response.json())\n",
    "btc_usd.head()"
   ]
  },
  {
   "cell_type": "markdown",
   "id": "8f63fc25",
   "metadata": {},
   "source": [
    "### Lets plot OHLC data"
   ]
  },
  {
   "cell_type": "code",
   "execution_count": null,
   "id": "43a3460a",
   "metadata": {},
   "outputs": [],
   "source": [
    "go.Candlestick"
   ]
  },
  {
   "cell_type": "code",
   "execution_count": 31,
   "id": "6f3e509d",
   "metadata": {},
   "outputs": [
    {
     "data": {
      "application/vnd.plotly.v1+json": {
       "config": {
        "plotlyServerURL": "https://plot.ly"
       },
       "data": [
        {
         "close": [
          20675,
          20664,
          20646,
          20656,
          20643,
          20663,
          20714,
          20698,
          20699,
          20695,
          20677,
          20666,
          20648,
          20648,
          20651,
          20661,
          20671,
          20674,
          20682,
          20666,
          20640,
          20653,
          20661,
          20653,
          20669,
          20648,
          20637,
          20642,
          20646,
          20651,
          20631,
          20627,
          20635,
          20663,
          20654,
          20684,
          20708,
          20709,
          20682,
          20702,
          20727,
          20670,
          20638,
          20617,
          20612,
          20613,
          20636,
          20672,
          20662,
          20610,
          20595,
          20605,
          20607,
          20624,
          20576,
          20558,
          20538,
          20528,
          20527,
          20489,
          20500,
          20514,
          20529,
          20529,
          20519,
          20529,
          20521,
          20521,
          20529,
          20505,
          20522,
          20516,
          20522,
          20492,
          20497,
          20501,
          20504,
          20519,
          20504,
          20519,
          20545,
          20559,
          20582,
          20568,
          20564,
          20585,
          20578,
          20563,
          20582,
          20643,
          20650,
          20668,
          20653,
          20568,
          20538,
          20544,
          20522,
          20525,
          20518,
          20510
         ],
         "high": [
          20676,
          20669,
          20646,
          20665,
          20667,
          20712,
          20717,
          20699,
          20703,
          20695,
          20677,
          20666,
          20653,
          20651,
          20667,
          20672,
          20672,
          20675,
          20691,
          20671,
          20652,
          20671,
          20661,
          20680,
          20669,
          20648,
          20650,
          20647,
          20651,
          20663,
          20639,
          20638,
          20649,
          20669,
          20679,
          20706,
          20714,
          20709,
          20706,
          20719,
          20796,
          20682,
          20638,
          20633,
          20626,
          20634,
          20667,
          20672,
          20662,
          20615,
          20612,
          20611,
          20607,
          20624,
          20582,
          20562,
          20541,
          20529,
          20527,
          20500,
          20515,
          20529,
          20529,
          20535,
          20533,
          20530,
          20521,
          20537,
          20529,
          20523,
          20529,
          20526,
          20531,
          20501,
          20502,
          20511,
          20523,
          20538,
          20517,
          20548,
          20555,
          20586,
          20584,
          20585,
          20589,
          20591,
          20578,
          20596,
          20612,
          20667,
          20658,
          20684,
          20683,
          20568,
          20547,
          20544,
          20529,
          20525,
          20538,
          20568
         ],
         "low": [
          20670,
          20646,
          20625,
          20648,
          20643,
          20663,
          20698,
          20687,
          20693,
          20685,
          20670,
          20657,
          20648,
          20648,
          20651,
          20661,
          20671,
          20669,
          20669,
          20637,
          20638,
          20651,
          20648,
          20649,
          20651,
          20628,
          20637,
          20637,
          20636,
          20640,
          20621,
          20622,
          20635,
          20649,
          20650,
          20684,
          20699,
          20690,
          20682,
          20699,
          20681,
          20643,
          20614,
          20611,
          20605,
          20609,
          20635,
          20647,
          20627,
          20597,
          20594,
          20587,
          20591,
          20579,
          20552,
          20540,
          20536,
          20524,
          20502,
          20489,
          20500,
          20514,
          20527,
          20529,
          20518,
          20518,
          20518,
          20521,
          20497,
          20503,
          20521,
          20516,
          20511,
          20489,
          20493,
          20499,
          20498,
          20507,
          20485,
          20519,
          20518,
          20559,
          20559,
          20566,
          20562,
          20579,
          20522,
          20563,
          20581,
          20636,
          20636,
          20630,
          20556,
          20537,
          20518,
          20513,
          20514,
          20503,
          20518,
          20500
         ],
         "open": [
          20675,
          20646,
          20625,
          20648,
          20661,
          20710,
          20698,
          20699,
          20693,
          20685,
          20671,
          20657,
          20653,
          20651,
          20659,
          20664,
          20672,
          20669,
          20673,
          20637,
          20651,
          20669,
          20659,
          20663,
          20651,
          20635,
          20643,
          20644,
          20645,
          20640,
          20621,
          20638,
          20649,
          20652,
          20679,
          20706,
          20711,
          20690,
          20706,
          20712,
          20681,
          20646,
          20614,
          20613,
          20605,
          20628,
          20661,
          20663,
          20627,
          20609,
          20612,
          20605,
          20594,
          20579,
          20558,
          20540,
          20536,
          20529,
          20502,
          20500,
          20515,
          20529,
          20527,
          20530,
          20533,
          20518,
          20520,
          20537,
          20510,
          20523,
          20524,
          20526,
          20511,
          20489,
          20502,
          20511,
          20517,
          20509,
          20513,
          20546,
          20555,
          20586,
          20567,
          20569,
          20589,
          20580,
          20540,
          20584,
          20612,
          20647,
          20658,
          20633,
          20567,
          20547,
          20539,
          20517,
          20522,
          20504,
          20528,
          20500
         ],
         "type": "candlestick",
         "x": [
          "2022-09-09T07:06:00.0000000Z",
          "2022-09-09T07:05:00.0000000Z",
          "2022-09-09T07:04:00.0000000Z",
          "2022-09-09T07:03:00.0000000Z",
          "2022-09-09T07:02:00.0000000Z",
          "2022-09-09T07:01:00.0000000Z",
          "2022-09-09T07:00:00.0000000Z",
          "2022-09-09T06:59:00.0000000Z",
          "2022-09-09T06:58:00.0000000Z",
          "2022-09-09T06:56:00.0000000Z",
          "2022-09-09T06:55:00.0000000Z",
          "2022-09-09T06:54:00.0000000Z",
          "2022-09-09T06:53:00.0000000Z",
          "2022-09-09T06:52:00.0000000Z",
          "2022-09-09T06:51:00.0000000Z",
          "2022-09-09T06:50:00.0000000Z",
          "2022-09-09T06:49:00.0000000Z",
          "2022-09-09T06:48:00.0000000Z",
          "2022-09-09T06:47:00.0000000Z",
          "2022-09-09T06:46:00.0000000Z",
          "2022-09-09T06:45:00.0000000Z",
          "2022-09-09T06:44:00.0000000Z",
          "2022-09-09T06:43:00.0000000Z",
          "2022-09-09T06:42:00.0000000Z",
          "2022-09-09T06:41:00.0000000Z",
          "2022-09-09T06:40:00.0000000Z",
          "2022-09-09T06:39:00.0000000Z",
          "2022-09-09T06:38:00.0000000Z",
          "2022-09-09T06:37:00.0000000Z",
          "2022-09-09T06:36:00.0000000Z",
          "2022-09-09T06:35:00.0000000Z",
          "2022-09-09T06:34:00.0000000Z",
          "2022-09-09T06:33:00.0000000Z",
          "2022-09-09T06:32:00.0000000Z",
          "2022-09-09T06:31:00.0000000Z",
          "2022-09-09T06:30:00.0000000Z",
          "2022-09-09T06:29:00.0000000Z",
          "2022-09-09T06:28:00.0000000Z",
          "2022-09-09T06:27:00.0000000Z",
          "2022-09-09T06:26:00.0000000Z",
          "2022-09-09T06:25:00.0000000Z",
          "2022-09-09T06:24:00.0000000Z",
          "2022-09-09T06:23:00.0000000Z",
          "2022-09-09T06:22:00.0000000Z",
          "2022-09-09T06:21:00.0000000Z",
          "2022-09-09T06:20:00.0000000Z",
          "2022-09-09T06:19:00.0000000Z",
          "2022-09-09T06:18:00.0000000Z",
          "2022-09-09T06:17:00.0000000Z",
          "2022-09-09T06:15:00.0000000Z",
          "2022-09-09T06:14:00.0000000Z",
          "2022-09-09T06:13:00.0000000Z",
          "2022-09-09T06:12:00.0000000Z",
          "2022-09-09T06:11:00.0000000Z",
          "2022-09-09T06:10:00.0000000Z",
          "2022-09-09T06:09:00.0000000Z",
          "2022-09-09T06:08:00.0000000Z",
          "2022-09-09T06:07:00.0000000Z",
          "2022-09-09T06:06:00.0000000Z",
          "2022-09-09T06:05:00.0000000Z",
          "2022-09-09T06:04:00.0000000Z",
          "2022-09-09T06:03:00.0000000Z",
          "2022-09-09T06:02:00.0000000Z",
          "2022-09-09T06:01:00.0000000Z",
          "2022-09-09T06:00:00.0000000Z",
          "2022-09-09T05:59:00.0000000Z",
          "2022-09-09T05:58:00.0000000Z",
          "2022-09-09T05:57:00.0000000Z",
          "2022-09-09T05:56:00.0000000Z",
          "2022-09-09T05:55:00.0000000Z",
          "2022-09-09T05:54:00.0000000Z",
          "2022-09-09T05:53:00.0000000Z",
          "2022-09-09T05:52:00.0000000Z",
          "2022-09-09T05:51:00.0000000Z",
          "2022-09-09T05:50:00.0000000Z",
          "2022-09-09T05:49:00.0000000Z",
          "2022-09-09T05:48:00.0000000Z",
          "2022-09-09T05:47:00.0000000Z",
          "2022-09-09T05:46:00.0000000Z",
          "2022-09-09T05:45:00.0000000Z",
          "2022-09-09T05:44:00.0000000Z",
          "2022-09-09T05:43:00.0000000Z",
          "2022-09-09T05:42:00.0000000Z",
          "2022-09-09T05:41:00.0000000Z",
          "2022-09-09T05:40:00.0000000Z",
          "2022-09-09T05:39:00.0000000Z",
          "2022-09-09T05:38:00.0000000Z",
          "2022-09-09T05:37:00.0000000Z",
          "2022-09-09T05:36:00.0000000Z",
          "2022-09-09T05:35:00.0000000Z",
          "2022-09-09T05:34:00.0000000Z",
          "2022-09-09T05:33:00.0000000Z",
          "2022-09-09T05:32:00.0000000Z",
          "2022-09-09T05:31:00.0000000Z",
          "2022-09-09T05:30:00.0000000Z",
          "2022-09-09T05:29:00.0000000Z",
          "2022-09-09T05:28:00.0000000Z",
          "2022-09-09T05:27:00.0000000Z",
          "2022-09-09T05:26:00.0000000Z",
          "2022-09-09T05:25:00.0000000Z"
         ]
        }
       ],
       "layout": {
        "template": {
         "data": {
          "bar": [
           {
            "error_x": {
             "color": "#2a3f5f"
            },
            "error_y": {
             "color": "#2a3f5f"
            },
            "marker": {
             "line": {
              "color": "#E5ECF6",
              "width": 0.5
             },
             "pattern": {
              "fillmode": "overlay",
              "size": 10,
              "solidity": 0.2
             }
            },
            "type": "bar"
           }
          ],
          "barpolar": [
           {
            "marker": {
             "line": {
              "color": "#E5ECF6",
              "width": 0.5
             },
             "pattern": {
              "fillmode": "overlay",
              "size": 10,
              "solidity": 0.2
             }
            },
            "type": "barpolar"
           }
          ],
          "carpet": [
           {
            "aaxis": {
             "endlinecolor": "#2a3f5f",
             "gridcolor": "white",
             "linecolor": "white",
             "minorgridcolor": "white",
             "startlinecolor": "#2a3f5f"
            },
            "baxis": {
             "endlinecolor": "#2a3f5f",
             "gridcolor": "white",
             "linecolor": "white",
             "minorgridcolor": "white",
             "startlinecolor": "#2a3f5f"
            },
            "type": "carpet"
           }
          ],
          "choropleth": [
           {
            "colorbar": {
             "outlinewidth": 0,
             "ticks": ""
            },
            "type": "choropleth"
           }
          ],
          "contour": [
           {
            "colorbar": {
             "outlinewidth": 0,
             "ticks": ""
            },
            "colorscale": [
             [
              0,
              "#0d0887"
             ],
             [
              0.1111111111111111,
              "#46039f"
             ],
             [
              0.2222222222222222,
              "#7201a8"
             ],
             [
              0.3333333333333333,
              "#9c179e"
             ],
             [
              0.4444444444444444,
              "#bd3786"
             ],
             [
              0.5555555555555556,
              "#d8576b"
             ],
             [
              0.6666666666666666,
              "#ed7953"
             ],
             [
              0.7777777777777778,
              "#fb9f3a"
             ],
             [
              0.8888888888888888,
              "#fdca26"
             ],
             [
              1,
              "#f0f921"
             ]
            ],
            "type": "contour"
           }
          ],
          "contourcarpet": [
           {
            "colorbar": {
             "outlinewidth": 0,
             "ticks": ""
            },
            "type": "contourcarpet"
           }
          ],
          "heatmap": [
           {
            "colorbar": {
             "outlinewidth": 0,
             "ticks": ""
            },
            "colorscale": [
             [
              0,
              "#0d0887"
             ],
             [
              0.1111111111111111,
              "#46039f"
             ],
             [
              0.2222222222222222,
              "#7201a8"
             ],
             [
              0.3333333333333333,
              "#9c179e"
             ],
             [
              0.4444444444444444,
              "#bd3786"
             ],
             [
              0.5555555555555556,
              "#d8576b"
             ],
             [
              0.6666666666666666,
              "#ed7953"
             ],
             [
              0.7777777777777778,
              "#fb9f3a"
             ],
             [
              0.8888888888888888,
              "#fdca26"
             ],
             [
              1,
              "#f0f921"
             ]
            ],
            "type": "heatmap"
           }
          ],
          "heatmapgl": [
           {
            "colorbar": {
             "outlinewidth": 0,
             "ticks": ""
            },
            "colorscale": [
             [
              0,
              "#0d0887"
             ],
             [
              0.1111111111111111,
              "#46039f"
             ],
             [
              0.2222222222222222,
              "#7201a8"
             ],
             [
              0.3333333333333333,
              "#9c179e"
             ],
             [
              0.4444444444444444,
              "#bd3786"
             ],
             [
              0.5555555555555556,
              "#d8576b"
             ],
             [
              0.6666666666666666,
              "#ed7953"
             ],
             [
              0.7777777777777778,
              "#fb9f3a"
             ],
             [
              0.8888888888888888,
              "#fdca26"
             ],
             [
              1,
              "#f0f921"
             ]
            ],
            "type": "heatmapgl"
           }
          ],
          "histogram": [
           {
            "marker": {
             "pattern": {
              "fillmode": "overlay",
              "size": 10,
              "solidity": 0.2
             }
            },
            "type": "histogram"
           }
          ],
          "histogram2d": [
           {
            "colorbar": {
             "outlinewidth": 0,
             "ticks": ""
            },
            "colorscale": [
             [
              0,
              "#0d0887"
             ],
             [
              0.1111111111111111,
              "#46039f"
             ],
             [
              0.2222222222222222,
              "#7201a8"
             ],
             [
              0.3333333333333333,
              "#9c179e"
             ],
             [
              0.4444444444444444,
              "#bd3786"
             ],
             [
              0.5555555555555556,
              "#d8576b"
             ],
             [
              0.6666666666666666,
              "#ed7953"
             ],
             [
              0.7777777777777778,
              "#fb9f3a"
             ],
             [
              0.8888888888888888,
              "#fdca26"
             ],
             [
              1,
              "#f0f921"
             ]
            ],
            "type": "histogram2d"
           }
          ],
          "histogram2dcontour": [
           {
            "colorbar": {
             "outlinewidth": 0,
             "ticks": ""
            },
            "colorscale": [
             [
              0,
              "#0d0887"
             ],
             [
              0.1111111111111111,
              "#46039f"
             ],
             [
              0.2222222222222222,
              "#7201a8"
             ],
             [
              0.3333333333333333,
              "#9c179e"
             ],
             [
              0.4444444444444444,
              "#bd3786"
             ],
             [
              0.5555555555555556,
              "#d8576b"
             ],
             [
              0.6666666666666666,
              "#ed7953"
             ],
             [
              0.7777777777777778,
              "#fb9f3a"
             ],
             [
              0.8888888888888888,
              "#fdca26"
             ],
             [
              1,
              "#f0f921"
             ]
            ],
            "type": "histogram2dcontour"
           }
          ],
          "mesh3d": [
           {
            "colorbar": {
             "outlinewidth": 0,
             "ticks": ""
            },
            "type": "mesh3d"
           }
          ],
          "parcoords": [
           {
            "line": {
             "colorbar": {
              "outlinewidth": 0,
              "ticks": ""
             }
            },
            "type": "parcoords"
           }
          ],
          "pie": [
           {
            "automargin": true,
            "type": "pie"
           }
          ],
          "scatter": [
           {
            "marker": {
             "colorbar": {
              "outlinewidth": 0,
              "ticks": ""
             }
            },
            "type": "scatter"
           }
          ],
          "scatter3d": [
           {
            "line": {
             "colorbar": {
              "outlinewidth": 0,
              "ticks": ""
             }
            },
            "marker": {
             "colorbar": {
              "outlinewidth": 0,
              "ticks": ""
             }
            },
            "type": "scatter3d"
           }
          ],
          "scattercarpet": [
           {
            "marker": {
             "colorbar": {
              "outlinewidth": 0,
              "ticks": ""
             }
            },
            "type": "scattercarpet"
           }
          ],
          "scattergeo": [
           {
            "marker": {
             "colorbar": {
              "outlinewidth": 0,
              "ticks": ""
             }
            },
            "type": "scattergeo"
           }
          ],
          "scattergl": [
           {
            "marker": {
             "colorbar": {
              "outlinewidth": 0,
              "ticks": ""
             }
            },
            "type": "scattergl"
           }
          ],
          "scattermapbox": [
           {
            "marker": {
             "colorbar": {
              "outlinewidth": 0,
              "ticks": ""
             }
            },
            "type": "scattermapbox"
           }
          ],
          "scatterpolar": [
           {
            "marker": {
             "colorbar": {
              "outlinewidth": 0,
              "ticks": ""
             }
            },
            "type": "scatterpolar"
           }
          ],
          "scatterpolargl": [
           {
            "marker": {
             "colorbar": {
              "outlinewidth": 0,
              "ticks": ""
             }
            },
            "type": "scatterpolargl"
           }
          ],
          "scatterternary": [
           {
            "marker": {
             "colorbar": {
              "outlinewidth": 0,
              "ticks": ""
             }
            },
            "type": "scatterternary"
           }
          ],
          "surface": [
           {
            "colorbar": {
             "outlinewidth": 0,
             "ticks": ""
            },
            "colorscale": [
             [
              0,
              "#0d0887"
             ],
             [
              0.1111111111111111,
              "#46039f"
             ],
             [
              0.2222222222222222,
              "#7201a8"
             ],
             [
              0.3333333333333333,
              "#9c179e"
             ],
             [
              0.4444444444444444,
              "#bd3786"
             ],
             [
              0.5555555555555556,
              "#d8576b"
             ],
             [
              0.6666666666666666,
              "#ed7953"
             ],
             [
              0.7777777777777778,
              "#fb9f3a"
             ],
             [
              0.8888888888888888,
              "#fdca26"
             ],
             [
              1,
              "#f0f921"
             ]
            ],
            "type": "surface"
           }
          ],
          "table": [
           {
            "cells": {
             "fill": {
              "color": "#EBF0F8"
             },
             "line": {
              "color": "white"
             }
            },
            "header": {
             "fill": {
              "color": "#C8D4E3"
             },
             "line": {
              "color": "white"
             }
            },
            "type": "table"
           }
          ]
         },
         "layout": {
          "annotationdefaults": {
           "arrowcolor": "#2a3f5f",
           "arrowhead": 0,
           "arrowwidth": 1
          },
          "autotypenumbers": "strict",
          "coloraxis": {
           "colorbar": {
            "outlinewidth": 0,
            "ticks": ""
           }
          },
          "colorscale": {
           "diverging": [
            [
             0,
             "#8e0152"
            ],
            [
             0.1,
             "#c51b7d"
            ],
            [
             0.2,
             "#de77ae"
            ],
            [
             0.3,
             "#f1b6da"
            ],
            [
             0.4,
             "#fde0ef"
            ],
            [
             0.5,
             "#f7f7f7"
            ],
            [
             0.6,
             "#e6f5d0"
            ],
            [
             0.7,
             "#b8e186"
            ],
            [
             0.8,
             "#7fbc41"
            ],
            [
             0.9,
             "#4d9221"
            ],
            [
             1,
             "#276419"
            ]
           ],
           "sequential": [
            [
             0,
             "#0d0887"
            ],
            [
             0.1111111111111111,
             "#46039f"
            ],
            [
             0.2222222222222222,
             "#7201a8"
            ],
            [
             0.3333333333333333,
             "#9c179e"
            ],
            [
             0.4444444444444444,
             "#bd3786"
            ],
            [
             0.5555555555555556,
             "#d8576b"
            ],
            [
             0.6666666666666666,
             "#ed7953"
            ],
            [
             0.7777777777777778,
             "#fb9f3a"
            ],
            [
             0.8888888888888888,
             "#fdca26"
            ],
            [
             1,
             "#f0f921"
            ]
           ],
           "sequentialminus": [
            [
             0,
             "#0d0887"
            ],
            [
             0.1111111111111111,
             "#46039f"
            ],
            [
             0.2222222222222222,
             "#7201a8"
            ],
            [
             0.3333333333333333,
             "#9c179e"
            ],
            [
             0.4444444444444444,
             "#bd3786"
            ],
            [
             0.5555555555555556,
             "#d8576b"
            ],
            [
             0.6666666666666666,
             "#ed7953"
            ],
            [
             0.7777777777777778,
             "#fb9f3a"
            ],
            [
             0.8888888888888888,
             "#fdca26"
            ],
            [
             1,
             "#f0f921"
            ]
           ]
          },
          "colorway": [
           "#636efa",
           "#EF553B",
           "#00cc96",
           "#ab63fa",
           "#FFA15A",
           "#19d3f3",
           "#FF6692",
           "#B6E880",
           "#FF97FF",
           "#FECB52"
          ],
          "font": {
           "color": "#2a3f5f"
          },
          "geo": {
           "bgcolor": "white",
           "lakecolor": "white",
           "landcolor": "#E5ECF6",
           "showlakes": true,
           "showland": true,
           "subunitcolor": "white"
          },
          "hoverlabel": {
           "align": "left"
          },
          "hovermode": "closest",
          "mapbox": {
           "style": "light"
          },
          "paper_bgcolor": "white",
          "plot_bgcolor": "#E5ECF6",
          "polar": {
           "angularaxis": {
            "gridcolor": "white",
            "linecolor": "white",
            "ticks": ""
           },
           "bgcolor": "#E5ECF6",
           "radialaxis": {
            "gridcolor": "white",
            "linecolor": "white",
            "ticks": ""
           }
          },
          "scene": {
           "xaxis": {
            "backgroundcolor": "#E5ECF6",
            "gridcolor": "white",
            "gridwidth": 2,
            "linecolor": "white",
            "showbackground": true,
            "ticks": "",
            "zerolinecolor": "white"
           },
           "yaxis": {
            "backgroundcolor": "#E5ECF6",
            "gridcolor": "white",
            "gridwidth": 2,
            "linecolor": "white",
            "showbackground": true,
            "ticks": "",
            "zerolinecolor": "white"
           },
           "zaxis": {
            "backgroundcolor": "#E5ECF6",
            "gridcolor": "white",
            "gridwidth": 2,
            "linecolor": "white",
            "showbackground": true,
            "ticks": "",
            "zerolinecolor": "white"
           }
          },
          "shapedefaults": {
           "line": {
            "color": "#2a3f5f"
           }
          },
          "ternary": {
           "aaxis": {
            "gridcolor": "white",
            "linecolor": "white",
            "ticks": ""
           },
           "baxis": {
            "gridcolor": "white",
            "linecolor": "white",
            "ticks": ""
           },
           "bgcolor": "#E5ECF6",
           "caxis": {
            "gridcolor": "white",
            "linecolor": "white",
            "ticks": ""
           }
          },
          "title": {
           "x": 0.05
          },
          "xaxis": {
           "automargin": true,
           "gridcolor": "white",
           "linecolor": "white",
           "ticks": "",
           "title": {
            "standoff": 15
           },
           "zerolinecolor": "white",
           "zerolinewidth": 2
          },
          "yaxis": {
           "automargin": true,
           "gridcolor": "white",
           "linecolor": "white",
           "ticks": "",
           "title": {
            "standoff": 15
           },
           "zerolinecolor": "white",
           "zerolinewidth": 2
          }
         }
        }
       }
      },
      "text/html": [
       "<div>                            <div id=\"240495c0-25f3-4239-92a5-b004729f7211\" class=\"plotly-graph-div\" style=\"height:525px; width:100%;\"></div>            <script type=\"text/javascript\">                require([\"plotly\"], function(Plotly) {                    window.PLOTLYENV=window.PLOTLYENV || {};                                    if (document.getElementById(\"240495c0-25f3-4239-92a5-b004729f7211\")) {                    Plotly.newPlot(                        \"240495c0-25f3-4239-92a5-b004729f7211\",                        [{\"close\":[20675.0,20664.0,20646.0,20656.0,20643.0,20663.0,20714.0,20698.0,20699.0,20695.0,20677.0,20666.0,20648.0,20648.0,20651.0,20661.0,20671.0,20674.0,20682.0,20666.0,20640.0,20653.0,20661.0,20653.0,20669.0,20648.0,20637.0,20642.0,20646.0,20651.0,20631.0,20627.0,20635.0,20663.0,20654.0,20684.0,20708.0,20709.0,20682.0,20702.0,20727.0,20670.0,20638.0,20617.0,20612.0,20613.0,20636.0,20672.0,20662.0,20610.0,20595.0,20605.0,20607.0,20624.0,20576.0,20558.0,20538.0,20528.0,20527.0,20489.0,20500.0,20514.0,20529.0,20529.0,20519.0,20529.0,20521.0,20521.0,20529.0,20505.0,20522.0,20516.0,20522.0,20492.0,20497.0,20501.0,20504.0,20519.0,20504.0,20519.0,20545.0,20559.0,20582.0,20568.0,20564.0,20585.0,20578.0,20563.0,20582.0,20643.0,20650.0,20668.0,20653.0,20568.0,20538.0,20544.0,20522.0,20525.0,20518.0,20510.0],\"high\":[20676.0,20669.0,20646.0,20665.0,20667.0,20712.0,20717.0,20699.0,20703.0,20695.0,20677.0,20666.0,20653.0,20651.0,20667.0,20672.0,20672.0,20675.0,20691.0,20671.0,20652.0,20671.0,20661.0,20680.0,20669.0,20648.0,20650.0,20647.0,20651.0,20663.0,20639.0,20638.0,20649.0,20669.0,20679.0,20706.0,20714.0,20709.0,20706.0,20719.0,20796.0,20682.0,20638.0,20633.0,20626.0,20634.0,20667.0,20672.0,20662.0,20615.0,20612.0,20611.0,20607.0,20624.0,20582.0,20562.0,20541.0,20529.0,20527.0,20500.0,20515.0,20529.0,20529.0,20535.0,20533.0,20530.0,20521.0,20537.0,20529.0,20523.0,20529.0,20526.0,20531.0,20501.0,20502.0,20511.0,20523.0,20538.0,20517.0,20548.0,20555.0,20586.0,20584.0,20585.0,20589.0,20591.0,20578.0,20596.0,20612.0,20667.0,20658.0,20684.0,20683.0,20568.0,20547.0,20544.0,20529.0,20525.0,20538.0,20568.0],\"low\":[20670.0,20646.0,20625.0,20648.0,20643.0,20663.0,20698.0,20687.0,20693.0,20685.0,20670.0,20657.0,20648.0,20648.0,20651.0,20661.0,20671.0,20669.0,20669.0,20637.0,20638.0,20651.0,20648.0,20649.0,20651.0,20628.0,20637.0,20637.0,20636.0,20640.0,20621.0,20622.0,20635.0,20649.0,20650.0,20684.0,20699.0,20690.0,20682.0,20699.0,20681.0,20643.0,20614.0,20611.0,20605.0,20609.0,20635.0,20647.0,20627.0,20597.0,20594.0,20587.0,20591.0,20579.0,20552.0,20540.0,20536.0,20524.0,20502.0,20489.0,20500.0,20514.0,20527.0,20529.0,20518.0,20518.0,20518.0,20521.0,20497.0,20503.0,20521.0,20516.0,20511.0,20489.0,20493.0,20499.0,20498.0,20507.0,20485.0,20519.0,20518.0,20559.0,20559.0,20566.0,20562.0,20579.0,20522.0,20563.0,20581.0,20636.0,20636.0,20630.0,20556.0,20537.0,20518.0,20513.0,20514.0,20503.0,20518.0,20500.0],\"open\":[20675.0,20646.0,20625.0,20648.0,20661.0,20710.0,20698.0,20699.0,20693.0,20685.0,20671.0,20657.0,20653.0,20651.0,20659.0,20664.0,20672.0,20669.0,20673.0,20637.0,20651.0,20669.0,20659.0,20663.0,20651.0,20635.0,20643.0,20644.0,20645.0,20640.0,20621.0,20638.0,20649.0,20652.0,20679.0,20706.0,20711.0,20690.0,20706.0,20712.0,20681.0,20646.0,20614.0,20613.0,20605.0,20628.0,20661.0,20663.0,20627.0,20609.0,20612.0,20605.0,20594.0,20579.0,20558.0,20540.0,20536.0,20529.0,20502.0,20500.0,20515.0,20529.0,20527.0,20530.0,20533.0,20518.0,20520.0,20537.0,20510.0,20523.0,20524.0,20526.0,20511.0,20489.0,20502.0,20511.0,20517.0,20509.0,20513.0,20546.0,20555.0,20586.0,20567.0,20569.0,20589.0,20580.0,20540.0,20584.0,20612.0,20647.0,20658.0,20633.0,20567.0,20547.0,20539.0,20517.0,20522.0,20504.0,20528.0,20500.0],\"x\":[\"2022-09-09T07:06:00.0000000Z\",\"2022-09-09T07:05:00.0000000Z\",\"2022-09-09T07:04:00.0000000Z\",\"2022-09-09T07:03:00.0000000Z\",\"2022-09-09T07:02:00.0000000Z\",\"2022-09-09T07:01:00.0000000Z\",\"2022-09-09T07:00:00.0000000Z\",\"2022-09-09T06:59:00.0000000Z\",\"2022-09-09T06:58:00.0000000Z\",\"2022-09-09T06:56:00.0000000Z\",\"2022-09-09T06:55:00.0000000Z\",\"2022-09-09T06:54:00.0000000Z\",\"2022-09-09T06:53:00.0000000Z\",\"2022-09-09T06:52:00.0000000Z\",\"2022-09-09T06:51:00.0000000Z\",\"2022-09-09T06:50:00.0000000Z\",\"2022-09-09T06:49:00.0000000Z\",\"2022-09-09T06:48:00.0000000Z\",\"2022-09-09T06:47:00.0000000Z\",\"2022-09-09T06:46:00.0000000Z\",\"2022-09-09T06:45:00.0000000Z\",\"2022-09-09T06:44:00.0000000Z\",\"2022-09-09T06:43:00.0000000Z\",\"2022-09-09T06:42:00.0000000Z\",\"2022-09-09T06:41:00.0000000Z\",\"2022-09-09T06:40:00.0000000Z\",\"2022-09-09T06:39:00.0000000Z\",\"2022-09-09T06:38:00.0000000Z\",\"2022-09-09T06:37:00.0000000Z\",\"2022-09-09T06:36:00.0000000Z\",\"2022-09-09T06:35:00.0000000Z\",\"2022-09-09T06:34:00.0000000Z\",\"2022-09-09T06:33:00.0000000Z\",\"2022-09-09T06:32:00.0000000Z\",\"2022-09-09T06:31:00.0000000Z\",\"2022-09-09T06:30:00.0000000Z\",\"2022-09-09T06:29:00.0000000Z\",\"2022-09-09T06:28:00.0000000Z\",\"2022-09-09T06:27:00.0000000Z\",\"2022-09-09T06:26:00.0000000Z\",\"2022-09-09T06:25:00.0000000Z\",\"2022-09-09T06:24:00.0000000Z\",\"2022-09-09T06:23:00.0000000Z\",\"2022-09-09T06:22:00.0000000Z\",\"2022-09-09T06:21:00.0000000Z\",\"2022-09-09T06:20:00.0000000Z\",\"2022-09-09T06:19:00.0000000Z\",\"2022-09-09T06:18:00.0000000Z\",\"2022-09-09T06:17:00.0000000Z\",\"2022-09-09T06:15:00.0000000Z\",\"2022-09-09T06:14:00.0000000Z\",\"2022-09-09T06:13:00.0000000Z\",\"2022-09-09T06:12:00.0000000Z\",\"2022-09-09T06:11:00.0000000Z\",\"2022-09-09T06:10:00.0000000Z\",\"2022-09-09T06:09:00.0000000Z\",\"2022-09-09T06:08:00.0000000Z\",\"2022-09-09T06:07:00.0000000Z\",\"2022-09-09T06:06:00.0000000Z\",\"2022-09-09T06:05:00.0000000Z\",\"2022-09-09T06:04:00.0000000Z\",\"2022-09-09T06:03:00.0000000Z\",\"2022-09-09T06:02:00.0000000Z\",\"2022-09-09T06:01:00.0000000Z\",\"2022-09-09T06:00:00.0000000Z\",\"2022-09-09T05:59:00.0000000Z\",\"2022-09-09T05:58:00.0000000Z\",\"2022-09-09T05:57:00.0000000Z\",\"2022-09-09T05:56:00.0000000Z\",\"2022-09-09T05:55:00.0000000Z\",\"2022-09-09T05:54:00.0000000Z\",\"2022-09-09T05:53:00.0000000Z\",\"2022-09-09T05:52:00.0000000Z\",\"2022-09-09T05:51:00.0000000Z\",\"2022-09-09T05:50:00.0000000Z\",\"2022-09-09T05:49:00.0000000Z\",\"2022-09-09T05:48:00.0000000Z\",\"2022-09-09T05:47:00.0000000Z\",\"2022-09-09T05:46:00.0000000Z\",\"2022-09-09T05:45:00.0000000Z\",\"2022-09-09T05:44:00.0000000Z\",\"2022-09-09T05:43:00.0000000Z\",\"2022-09-09T05:42:00.0000000Z\",\"2022-09-09T05:41:00.0000000Z\",\"2022-09-09T05:40:00.0000000Z\",\"2022-09-09T05:39:00.0000000Z\",\"2022-09-09T05:38:00.0000000Z\",\"2022-09-09T05:37:00.0000000Z\",\"2022-09-09T05:36:00.0000000Z\",\"2022-09-09T05:35:00.0000000Z\",\"2022-09-09T05:34:00.0000000Z\",\"2022-09-09T05:33:00.0000000Z\",\"2022-09-09T05:32:00.0000000Z\",\"2022-09-09T05:31:00.0000000Z\",\"2022-09-09T05:30:00.0000000Z\",\"2022-09-09T05:29:00.0000000Z\",\"2022-09-09T05:28:00.0000000Z\",\"2022-09-09T05:27:00.0000000Z\",\"2022-09-09T05:26:00.0000000Z\",\"2022-09-09T05:25:00.0000000Z\"],\"type\":\"candlestick\"}],                        {\"template\":{\"data\":{\"bar\":[{\"error_x\":{\"color\":\"#2a3f5f\"},\"error_y\":{\"color\":\"#2a3f5f\"},\"marker\":{\"line\":{\"color\":\"#E5ECF6\",\"width\":0.5},\"pattern\":{\"fillmode\":\"overlay\",\"size\":10,\"solidity\":0.2}},\"type\":\"bar\"}],\"barpolar\":[{\"marker\":{\"line\":{\"color\":\"#E5ECF6\",\"width\":0.5},\"pattern\":{\"fillmode\":\"overlay\",\"size\":10,\"solidity\":0.2}},\"type\":\"barpolar\"}],\"carpet\":[{\"aaxis\":{\"endlinecolor\":\"#2a3f5f\",\"gridcolor\":\"white\",\"linecolor\":\"white\",\"minorgridcolor\":\"white\",\"startlinecolor\":\"#2a3f5f\"},\"baxis\":{\"endlinecolor\":\"#2a3f5f\",\"gridcolor\":\"white\",\"linecolor\":\"white\",\"minorgridcolor\":\"white\",\"startlinecolor\":\"#2a3f5f\"},\"type\":\"carpet\"}],\"choropleth\":[{\"colorbar\":{\"outlinewidth\":0,\"ticks\":\"\"},\"type\":\"choropleth\"}],\"contour\":[{\"colorbar\":{\"outlinewidth\":0,\"ticks\":\"\"},\"colorscale\":[[0.0,\"#0d0887\"],[0.1111111111111111,\"#46039f\"],[0.2222222222222222,\"#7201a8\"],[0.3333333333333333,\"#9c179e\"],[0.4444444444444444,\"#bd3786\"],[0.5555555555555556,\"#d8576b\"],[0.6666666666666666,\"#ed7953\"],[0.7777777777777778,\"#fb9f3a\"],[0.8888888888888888,\"#fdca26\"],[1.0,\"#f0f921\"]],\"type\":\"contour\"}],\"contourcarpet\":[{\"colorbar\":{\"outlinewidth\":0,\"ticks\":\"\"},\"type\":\"contourcarpet\"}],\"heatmap\":[{\"colorbar\":{\"outlinewidth\":0,\"ticks\":\"\"},\"colorscale\":[[0.0,\"#0d0887\"],[0.1111111111111111,\"#46039f\"],[0.2222222222222222,\"#7201a8\"],[0.3333333333333333,\"#9c179e\"],[0.4444444444444444,\"#bd3786\"],[0.5555555555555556,\"#d8576b\"],[0.6666666666666666,\"#ed7953\"],[0.7777777777777778,\"#fb9f3a\"],[0.8888888888888888,\"#fdca26\"],[1.0,\"#f0f921\"]],\"type\":\"heatmap\"}],\"heatmapgl\":[{\"colorbar\":{\"outlinewidth\":0,\"ticks\":\"\"},\"colorscale\":[[0.0,\"#0d0887\"],[0.1111111111111111,\"#46039f\"],[0.2222222222222222,\"#7201a8\"],[0.3333333333333333,\"#9c179e\"],[0.4444444444444444,\"#bd3786\"],[0.5555555555555556,\"#d8576b\"],[0.6666666666666666,\"#ed7953\"],[0.7777777777777778,\"#fb9f3a\"],[0.8888888888888888,\"#fdca26\"],[1.0,\"#f0f921\"]],\"type\":\"heatmapgl\"}],\"histogram\":[{\"marker\":{\"pattern\":{\"fillmode\":\"overlay\",\"size\":10,\"solidity\":0.2}},\"type\":\"histogram\"}],\"histogram2d\":[{\"colorbar\":{\"outlinewidth\":0,\"ticks\":\"\"},\"colorscale\":[[0.0,\"#0d0887\"],[0.1111111111111111,\"#46039f\"],[0.2222222222222222,\"#7201a8\"],[0.3333333333333333,\"#9c179e\"],[0.4444444444444444,\"#bd3786\"],[0.5555555555555556,\"#d8576b\"],[0.6666666666666666,\"#ed7953\"],[0.7777777777777778,\"#fb9f3a\"],[0.8888888888888888,\"#fdca26\"],[1.0,\"#f0f921\"]],\"type\":\"histogram2d\"}],\"histogram2dcontour\":[{\"colorbar\":{\"outlinewidth\":0,\"ticks\":\"\"},\"colorscale\":[[0.0,\"#0d0887\"],[0.1111111111111111,\"#46039f\"],[0.2222222222222222,\"#7201a8\"],[0.3333333333333333,\"#9c179e\"],[0.4444444444444444,\"#bd3786\"],[0.5555555555555556,\"#d8576b\"],[0.6666666666666666,\"#ed7953\"],[0.7777777777777778,\"#fb9f3a\"],[0.8888888888888888,\"#fdca26\"],[1.0,\"#f0f921\"]],\"type\":\"histogram2dcontour\"}],\"mesh3d\":[{\"colorbar\":{\"outlinewidth\":0,\"ticks\":\"\"},\"type\":\"mesh3d\"}],\"parcoords\":[{\"line\":{\"colorbar\":{\"outlinewidth\":0,\"ticks\":\"\"}},\"type\":\"parcoords\"}],\"pie\":[{\"automargin\":true,\"type\":\"pie\"}],\"scatter\":[{\"marker\":{\"colorbar\":{\"outlinewidth\":0,\"ticks\":\"\"}},\"type\":\"scatter\"}],\"scatter3d\":[{\"line\":{\"colorbar\":{\"outlinewidth\":0,\"ticks\":\"\"}},\"marker\":{\"colorbar\":{\"outlinewidth\":0,\"ticks\":\"\"}},\"type\":\"scatter3d\"}],\"scattercarpet\":[{\"marker\":{\"colorbar\":{\"outlinewidth\":0,\"ticks\":\"\"}},\"type\":\"scattercarpet\"}],\"scattergeo\":[{\"marker\":{\"colorbar\":{\"outlinewidth\":0,\"ticks\":\"\"}},\"type\":\"scattergeo\"}],\"scattergl\":[{\"marker\":{\"colorbar\":{\"outlinewidth\":0,\"ticks\":\"\"}},\"type\":\"scattergl\"}],\"scattermapbox\":[{\"marker\":{\"colorbar\":{\"outlinewidth\":0,\"ticks\":\"\"}},\"type\":\"scattermapbox\"}],\"scatterpolar\":[{\"marker\":{\"colorbar\":{\"outlinewidth\":0,\"ticks\":\"\"}},\"type\":\"scatterpolar\"}],\"scatterpolargl\":[{\"marker\":{\"colorbar\":{\"outlinewidth\":0,\"ticks\":\"\"}},\"type\":\"scatterpolargl\"}],\"scatterternary\":[{\"marker\":{\"colorbar\":{\"outlinewidth\":0,\"ticks\":\"\"}},\"type\":\"scatterternary\"}],\"surface\":[{\"colorbar\":{\"outlinewidth\":0,\"ticks\":\"\"},\"colorscale\":[[0.0,\"#0d0887\"],[0.1111111111111111,\"#46039f\"],[0.2222222222222222,\"#7201a8\"],[0.3333333333333333,\"#9c179e\"],[0.4444444444444444,\"#bd3786\"],[0.5555555555555556,\"#d8576b\"],[0.6666666666666666,\"#ed7953\"],[0.7777777777777778,\"#fb9f3a\"],[0.8888888888888888,\"#fdca26\"],[1.0,\"#f0f921\"]],\"type\":\"surface\"}],\"table\":[{\"cells\":{\"fill\":{\"color\":\"#EBF0F8\"},\"line\":{\"color\":\"white\"}},\"header\":{\"fill\":{\"color\":\"#C8D4E3\"},\"line\":{\"color\":\"white\"}},\"type\":\"table\"}]},\"layout\":{\"annotationdefaults\":{\"arrowcolor\":\"#2a3f5f\",\"arrowhead\":0,\"arrowwidth\":1},\"autotypenumbers\":\"strict\",\"coloraxis\":{\"colorbar\":{\"outlinewidth\":0,\"ticks\":\"\"}},\"colorscale\":{\"diverging\":[[0,\"#8e0152\"],[0.1,\"#c51b7d\"],[0.2,\"#de77ae\"],[0.3,\"#f1b6da\"],[0.4,\"#fde0ef\"],[0.5,\"#f7f7f7\"],[0.6,\"#e6f5d0\"],[0.7,\"#b8e186\"],[0.8,\"#7fbc41\"],[0.9,\"#4d9221\"],[1,\"#276419\"]],\"sequential\":[[0.0,\"#0d0887\"],[0.1111111111111111,\"#46039f\"],[0.2222222222222222,\"#7201a8\"],[0.3333333333333333,\"#9c179e\"],[0.4444444444444444,\"#bd3786\"],[0.5555555555555556,\"#d8576b\"],[0.6666666666666666,\"#ed7953\"],[0.7777777777777778,\"#fb9f3a\"],[0.8888888888888888,\"#fdca26\"],[1.0,\"#f0f921\"]],\"sequentialminus\":[[0.0,\"#0d0887\"],[0.1111111111111111,\"#46039f\"],[0.2222222222222222,\"#7201a8\"],[0.3333333333333333,\"#9c179e\"],[0.4444444444444444,\"#bd3786\"],[0.5555555555555556,\"#d8576b\"],[0.6666666666666666,\"#ed7953\"],[0.7777777777777778,\"#fb9f3a\"],[0.8888888888888888,\"#fdca26\"],[1.0,\"#f0f921\"]]},\"colorway\":[\"#636efa\",\"#EF553B\",\"#00cc96\",\"#ab63fa\",\"#FFA15A\",\"#19d3f3\",\"#FF6692\",\"#B6E880\",\"#FF97FF\",\"#FECB52\"],\"font\":{\"color\":\"#2a3f5f\"},\"geo\":{\"bgcolor\":\"white\",\"lakecolor\":\"white\",\"landcolor\":\"#E5ECF6\",\"showlakes\":true,\"showland\":true,\"subunitcolor\":\"white\"},\"hoverlabel\":{\"align\":\"left\"},\"hovermode\":\"closest\",\"mapbox\":{\"style\":\"light\"},\"paper_bgcolor\":\"white\",\"plot_bgcolor\":\"#E5ECF6\",\"polar\":{\"angularaxis\":{\"gridcolor\":\"white\",\"linecolor\":\"white\",\"ticks\":\"\"},\"bgcolor\":\"#E5ECF6\",\"radialaxis\":{\"gridcolor\":\"white\",\"linecolor\":\"white\",\"ticks\":\"\"}},\"scene\":{\"xaxis\":{\"backgroundcolor\":\"#E5ECF6\",\"gridcolor\":\"white\",\"gridwidth\":2,\"linecolor\":\"white\",\"showbackground\":true,\"ticks\":\"\",\"zerolinecolor\":\"white\"},\"yaxis\":{\"backgroundcolor\":\"#E5ECF6\",\"gridcolor\":\"white\",\"gridwidth\":2,\"linecolor\":\"white\",\"showbackground\":true,\"ticks\":\"\",\"zerolinecolor\":\"white\"},\"zaxis\":{\"backgroundcolor\":\"#E5ECF6\",\"gridcolor\":\"white\",\"gridwidth\":2,\"linecolor\":\"white\",\"showbackground\":true,\"ticks\":\"\",\"zerolinecolor\":\"white\"}},\"shapedefaults\":{\"line\":{\"color\":\"#2a3f5f\"}},\"ternary\":{\"aaxis\":{\"gridcolor\":\"white\",\"linecolor\":\"white\",\"ticks\":\"\"},\"baxis\":{\"gridcolor\":\"white\",\"linecolor\":\"white\",\"ticks\":\"\"},\"bgcolor\":\"#E5ECF6\",\"caxis\":{\"gridcolor\":\"white\",\"linecolor\":\"white\",\"ticks\":\"\"}},\"title\":{\"x\":0.05},\"xaxis\":{\"automargin\":true,\"gridcolor\":\"white\",\"linecolor\":\"white\",\"ticks\":\"\",\"title\":{\"standoff\":15},\"zerolinecolor\":\"white\",\"zerolinewidth\":2},\"yaxis\":{\"automargin\":true,\"gridcolor\":\"white\",\"linecolor\":\"white\",\"ticks\":\"\",\"title\":{\"standoff\":15},\"zerolinecolor\":\"white\",\"zerolinewidth\":2}}}},                        {\"responsive\": true}                    ).then(function(){\n",
       "                            \n",
       "var gd = document.getElementById('240495c0-25f3-4239-92a5-b004729f7211');\n",
       "var x = new MutationObserver(function (mutations, observer) {{\n",
       "        var display = window.getComputedStyle(gd).display;\n",
       "        if (!display || display === 'none') {{\n",
       "            console.log([gd, 'removed!']);\n",
       "            Plotly.purge(gd);\n",
       "            observer.disconnect();\n",
       "        }}\n",
       "}});\n",
       "\n",
       "// Listen for the removal of the full notebook cells\n",
       "var notebookContainer = gd.closest('#notebook-container');\n",
       "if (notebookContainer) {{\n",
       "    x.observe(notebookContainer, {childList: true});\n",
       "}}\n",
       "\n",
       "// Listen for the clearing of the current output cell\n",
       "var outputEl = gd.closest('.output');\n",
       "if (outputEl) {{\n",
       "    x.observe(outputEl, {childList: true});\n",
       "}}\n",
       "\n",
       "                        })                };                });            </script>        </div>"
      ]
     },
     "metadata": {},
     "output_type": "display_data"
    }
   ],
   "source": [
    "import plotly.graph_objects as go\n",
    "\n",
    "fig = go.Figure(data=go.Candlestick(x=btc_usd['time_period_start'],\n",
    "                             open=btc_usd['price_open'],\n",
    "                             high=btc_usd['price_high'],\n",
    "                             low=btc_usd['price_low'],\n",
    "                             close=btc_usd['price_close']))\n",
    "  \n",
    "# show the figure\n",
    "fig.show()"
   ]
  },
  {
   "cell_type": "markdown",
   "id": "573f1398",
   "metadata": {},
   "source": [
    "### Further things to Explore\n",
    "\n",
    "    1. Order Book L2\n",
    "    2. Order Book L3\n",
    "    3. Websocket for streaming data\n",
    "    4. Messages for various api requests\n",
    "    "
   ]
  },
  {
   "cell_type": "code",
   "execution_count": null,
   "id": "459bd0be",
   "metadata": {},
   "outputs": [],
   "source": []
  },
  {
   "cell_type": "code",
   "execution_count": null,
   "id": "3ad05a3f",
   "metadata": {},
   "outputs": [],
   "source": []
  },
  {
   "cell_type": "code",
   "execution_count": null,
   "id": "9ddc7352",
   "metadata": {},
   "outputs": [],
   "source": []
  },
  {
   "cell_type": "code",
   "execution_count": null,
   "id": "9258fc92",
   "metadata": {},
   "outputs": [],
   "source": []
  },
  {
   "cell_type": "code",
   "execution_count": null,
   "id": "e6b4025b",
   "metadata": {},
   "outputs": [],
   "source": []
  },
  {
   "cell_type": "code",
   "execution_count": null,
   "id": "4cf083d5",
   "metadata": {},
   "outputs": [],
   "source": []
  },
  {
   "cell_type": "code",
   "execution_count": null,
   "id": "c08b9deb",
   "metadata": {},
   "outputs": [],
   "source": []
  },
  {
   "cell_type": "code",
   "execution_count": null,
   "id": "ab68f5fb",
   "metadata": {},
   "outputs": [],
   "source": []
  }
 ],
 "metadata": {
  "kernelspec": {
   "display_name": "Python 3 (ipykernel)",
   "language": "python",
   "name": "python3"
  },
  "language_info": {
   "codemirror_mode": {
    "name": "ipython",
    "version": 3
   },
   "file_extension": ".py",
   "mimetype": "text/x-python",
   "name": "python",
   "nbconvert_exporter": "python",
   "pygments_lexer": "ipython3",
   "version": "3.10.4"
  }
 },
 "nbformat": 4,
 "nbformat_minor": 5
}
